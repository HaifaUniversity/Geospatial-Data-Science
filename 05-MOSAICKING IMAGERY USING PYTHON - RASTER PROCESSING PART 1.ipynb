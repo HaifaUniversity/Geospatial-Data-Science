{
 "cells": [
  {
   "cell_type": "markdown",
   "id": "2fcef822",
   "metadata": {},
   "source": [
    "You first install the required packages:"
   ]
  },
  {
   "cell_type": "code",
   "execution_count": 1,
   "id": "d3b5c87c",
   "metadata": {},
   "outputs": [],
   "source": [
    "# !pip install pathlib\n",
    "# !pip install rasterio"
   ]
  },
  {
   "cell_type": "markdown",
   "id": "a5b99a61",
   "metadata": {},
   "source": [
    "For this Session, I will use a Dataset- DEM.tif which is a smaller dataset for the illustration."
   ]
  },
  {
   "cell_type": "code",
   "execution_count": 4,
   "id": "47342f66",
   "metadata": {},
   "outputs": [],
   "source": [
    "from rasterio.plot import show\n",
    "from rasterio.merge import merge\n",
    "import rasterio as rio\n",
    "from pathlib import Path\n",
    "path = Path(r'C:\\Users\\Lawrence\\DEM')\n",
    "Path('output').mkdir(parents=True, exist_ok=True)\n",
    "output_path = r'C:\\Users\\Lawrence\\DEMM3MOSAIC\\mosaic_output.tif'"
   ]
  },
  {
   "cell_type": "markdown",
   "id": "84ca1090",
   "metadata": {},
   "source": [
    "Now we iterate over the available .tif files in the data folder. We will merge all files in this data folder and create a mosaic from them. We also create an empty list to hold the files in the data folder.\n"
   ]
  },
  {
   "cell_type": "code",
   "execution_count": 5,
   "id": "79fefb77",
   "metadata": {},
   "outputs": [],
   "source": [
    "raster_files = list(path.iterdir())\n",
    "raster_to_mosiac = []"
   ]
  },
  {
   "cell_type": "markdown",
   "id": "76c60c97",
   "metadata": {},
   "source": [
    "We then loop through the raster files, open them with rasterio and append them to the raster_to_mosiac list we created above.\n",
    "\n"
   ]
  },
  {
   "cell_type": "code",
   "execution_count": 6,
   "id": "ac30258e",
   "metadata": {},
   "outputs": [],
   "source": [
    "for p in raster_files:\n",
    "    raster = rio.open(p)\n",
    "    raster_to_mosiac.append(raster)"
   ]
  },
  {
   "cell_type": "markdown",
   "id": "d6655d56",
   "metadata": {},
   "source": [
    "From this stage on, it is easy. We use the merge() method from rasterio to create the mosaic. We also create the output transformation parameters to use later.\n",
    "\n"
   ]
  },
  {
   "cell_type": "code",
   "execution_count": 7,
   "id": "bc2fa6d2",
   "metadata": {},
   "outputs": [],
   "source": [
    "mosaic, output = merge(raster_to_mosiac)"
   ]
  },
  {
   "cell_type": "markdown",
   "id": "2025f1b1",
   "metadata": {},
   "source": [
    "Now, we copy the raster's metadata and update it to match the height and width of the mosaic.\n",
    "\n"
   ]
  },
  {
   "cell_type": "code",
   "execution_count": 8,
   "id": "10330433",
   "metadata": {},
   "outputs": [],
   "source": [
    "output_meta = raster.meta.copy()\n",
    "output_meta.update(\n",
    "    {\"driver\": \"GTiff\",\n",
    "        \"height\": mosaic.shape[1],\n",
    "        \"width\": mosaic.shape[2],\n",
    "        \"transform\": output,\n",
    "    }\n",
    ")"
   ]
  },
  {
   "cell_type": "markdown",
   "id": "fe00c969",
   "metadata": {},
   "source": [
    "\n",
    "In this final stage, we write the mosaiced file in a local folder.\n",
    "\n"
   ]
  },
  {
   "cell_type": "code",
   "execution_count": 9,
   "id": "8daceaf9",
   "metadata": {},
   "outputs": [],
   "source": [
    "with rio.open(output_path, 'w', **output_meta) as m:\n",
    "    m.write(mosaic)\n"
   ]
  },
  {
   "cell_type": "markdown",
   "id": "f0689115",
   "metadata": {},
   "source": [
    "And there you have your mosaiced raster image!"
   ]
  },
  {
   "cell_type": "markdown",
   "id": "f35187de",
   "metadata": {},
   "source": [
    "How to reach me: Email: lawrencekimutai09@gmail.com\n",
    "\n",
    "YOUTUBE Channel on Geospatial Data Science:## https://www.youtube.com/playlist?list=PLKmAxy6Caj2CQwPCduYdTH4eHAkIs6-rX\n",
    "\n",
    "Twitter: https://twitter.com/lawrence_kim_?t=IgTw9ewUp1oQoKdcEirS5Q&s=09\n",
    "\n",
    "Fiverr: https://www.fiverr.com/s2/fef0ee42cd\n",
    "\n",
    "LinkedIn: https://www.linkedin.com/in/lawrence-kimutai-6184541ba\n",
    "\n",
    "Github: https://github.com/KimutaiLawrence\n"
   ]
  }
 ],
 "metadata": {
  "kernelspec": {
   "display_name": "Python 3 (ipykernel)",
   "language": "python",
   "name": "python3"
  },
  "language_info": {
   "codemirror_mode": {
    "name": "ipython",
    "version": 3
   },
   "file_extension": ".py",
   "mimetype": "text/x-python",
   "name": "python",
   "nbconvert_exporter": "python",
   "pygments_lexer": "ipython3",
   "version": "3.10.4"
  }
 },
 "nbformat": 4,
 "nbformat_minor": 5
}
