{
 "cells": [
  {
   "cell_type": "markdown",
   "metadata": {
    "id": "JfIHLJHtHgnA"
   },
   "source": [
    "Accessing Satellite data:\n",
    "We will use Sentinel 2 data. There are many options to access Sentinel 2 images and most of them will require you to access through website interaction whether directly via a downloading service utility or via the cloud. However, since we are using Jupyter notebook, we will access them right here using, sentinelsat a python library which makes searching, retrieving and downloading Sentinel satellite images easy. So let us start installing sentinelsat through pip. We also install other packages that we will use as we continue."
   ]
  },
  {
   "cell_type": "markdown",
   "metadata": {
    "id": "Pkn5pn59HtLf"
   },
   "source": [
    "Installation of the required Packages"
   ]
  },
  {
   "cell_type": "code",
   "execution_count": 5,
   "metadata": {},
   "outputs": [
    {
     "name": "stdout",
     "output_type": "stream",
     "text": [
      "Requirement already satisfied: pip in c:\\users\\lawrence\\anaconda3\\envs\\geo_env\\lib\\site-packages (22.1.2)Note: you may need to restart the kernel to use updated packages.\n",
      "\n",
      "Collecting pip\n",
      "  Downloading pip-22.2.2-py3-none-any.whl (2.0 MB)\n",
      "     ---------------------------------------- 2.0/2.0 MB 45.1 kB/s eta 0:00:00\n",
      "Installing collected packages: pip\n",
      "  Attempting uninstall: pip\n",
      "    Found existing installation: pip 22.1.2\n",
      "    Uninstalling pip-22.1.2:\n",
      "      Successfully uninstalled pip-22.1.2\n",
      "Successfully installed pip-22.2.2\n"
     ]
    },
    {
     "name": "stderr",
     "output_type": "stream",
     "text": [
      "WARNING: There was an error checking the latest version of pip.\n"
     ]
    }
   ],
   "source": [
    "pip install --upgrade pip #you may want to run this so as to avoid getting errors while installing the packages"
   ]
  },
  {
   "cell_type": "code",
   "execution_count": 7,
   "metadata": {
    "id": "C0T-h-IkGSkK"
   },
   "outputs": [
    {
     "name": "stdout",
     "output_type": "stream",
     "text": [
      "Collecting sentinelsat"
     ]
    },
    {
     "name": "stderr",
     "output_type": "stream",
     "text": [
      "  WARNING: Retrying (Retry(total=4, connect=None, read=None, redirect=None, status=None)) after connection broken by 'ReadTimeoutError(\"HTTPSConnectionPool(host='files.pythonhosted.org', port=443): Read timed out. (read timeout=15)\")': /packages/f4/19/dae9d0fb0c881b8464f07dc0530adfab182b9c6b4b8fb4eb79598f8a8daf/sentinelsat-1.1.1-py3-none-any.whl\n",
      "  WARNING: Retrying (Retry(total=3, connect=None, read=None, redirect=None, status=None)) after connection broken by 'NewConnectionError('<pip._vendor.urllib3.connection.HTTPSConnection object at 0x000001D13DD69300>: Failed to establish a new connection: [Errno 11001] getaddrinfo failed')': /packages/f4/19/dae9d0fb0c881b8464f07dc0530adfab182b9c6b4b8fb4eb79598f8a8daf/sentinelsat-1.1.1-py3-none-any.whl\n",
      "  WARNING: Retrying (Retry(total=2, connect=None, read=None, redirect=None, status=None)) after connection broken by 'NewConnectionError('<pip._vendor.urllib3.connection.HTTPSConnection object at 0x000001D13DD694B0>: Failed to establish a new connection: [Errno 11001] getaddrinfo failed')': /packages/f4/19/dae9d0fb0c881b8464f07dc0530adfab182b9c6b4b8fb4eb79598f8a8daf/sentinelsat-1.1.1-py3-none-any.whl\n",
      "  WARNING: Retrying (Retry(total=1, connect=None, read=None, redirect=None, status=None)) after connection broken by 'NewConnectionError('<pip._vendor.urllib3.connection.HTTPSConnection object at 0x000001D13DD69660>: Failed to establish a new connection: [Errno 11001] getaddrinfo failed')': /packages/f4/19/dae9d0fb0c881b8464f07dc0530adfab182b9c6b4b8fb4eb79598f8a8daf/sentinelsat-1.1.1-py3-none-any.whl\n"
     ]
    },
    {
     "name": "stdout",
     "output_type": "stream",
     "text": [
      "\n",
      "  Downloading sentinelsat-1.1.1-py3-none-any.whl (48 kB)\n",
      "     --------------------------------------- 48.7/48.7 kB 33.8 kB/s eta 0:00:00\n",
      "Collecting html2text\n",
      "  Downloading html2text-2020.1.16-py3-none-any.whl (32 kB)\n",
      "Requirement already satisfied: tqdm>=4.58 in c:\\users\\lawrence\\anaconda3\\envs\\geo_env\\lib\\site-packages (from sentinelsat) (4.64.0)\n",
      "Requirement already satisfied: geojson>=2 in c:\\users\\lawrence\\anaconda3\\envs\\geo_env\\lib\\site-packages (from sentinelsat) (2.5.0)\n",
      "Requirement already satisfied: click>=7.1 in c:\\users\\lawrence\\anaconda3\\envs\\geo_env\\lib\\site-packages (from sentinelsat) (8.1.3)\n",
      "Collecting geomet\n",
      "  Downloading geomet-0.3.0-py3-none-any.whl (28 kB)\n",
      "Requirement already satisfied: requests in c:\\users\\lawrence\\anaconda3\\envs\\geo_env\\lib\\site-packages (from sentinelsat) (2.27.1)\n",
      "Requirement already satisfied: colorama in c:\\users\\lawrence\\anaconda3\\envs\\geo_env\\lib\\site-packages (from click>=7.1->sentinelsat) (0.4.4)\n",
      "Requirement already satisfied: six in c:\\users\\lawrence\\anaconda3\\envs\\geo_env\\lib\\site-packages (from geomet->sentinelsat) (1.16.0)\n",
      "Requirement already satisfied: charset-normalizer~=2.0.0 in c:\\users\\lawrence\\anaconda3\\envs\\geo_env\\lib\\site-packages (from requests->sentinelsat) (2.0.12)\n",
      "Requirement already satisfied: certifi>=2017.4.17 in c:\\users\\lawrence\\anaconda3\\envs\\geo_env\\lib\\site-packages (from requests->sentinelsat) (2022.6.15)\n",
      "Requirement already satisfied: idna<4,>=2.5 in c:\\users\\lawrence\\anaconda3\\envs\\geo_env\\lib\\site-packages (from requests->sentinelsat) (3.3)\n",
      "Requirement already satisfied: urllib3<1.27,>=1.21.1 in c:\\users\\lawrence\\anaconda3\\envs\\geo_env\\lib\\site-packages (from requests->sentinelsat) (1.26.9)\n",
      "Installing collected packages: html2text, geomet, sentinelsat\n",
      "Successfully installed geomet-0.3.0 html2text-2020.1.16 sentinelsat-1.1.1\n",
      "Requirement already satisfied: folium in c:\\users\\lawrence\\anaconda3\\envs\\geo_env\\lib\\site-packages (0.12.1.post1)\n",
      "Requirement already satisfied: branca>=0.3.0 in c:\\users\\lawrence\\anaconda3\\envs\\geo_env\\lib\\site-packages (from folium) (0.5.0)\n",
      "Requirement already satisfied: numpy in c:\\users\\lawrence\\anaconda3\\envs\\geo_env\\lib\\site-packages (from folium) (1.22.4)\n",
      "Requirement already satisfied: jinja2>=2.9 in c:\\users\\lawrence\\anaconda3\\envs\\geo_env\\lib\\site-packages (from folium) (3.1.2)\n",
      "Requirement already satisfied: requests in c:\\users\\lawrence\\anaconda3\\envs\\geo_env\\lib\\site-packages (from folium) (2.27.1)\n",
      "Requirement already satisfied: MarkupSafe>=2.0 in c:\\users\\lawrence\\anaconda3\\envs\\geo_env\\lib\\site-packages (from jinja2>=2.9->folium) (2.1.1)\n",
      "Requirement already satisfied: idna<4,>=2.5 in c:\\users\\lawrence\\anaconda3\\envs\\geo_env\\lib\\site-packages (from requests->folium) (3.3)\n",
      "Requirement already satisfied: charset-normalizer~=2.0.0 in c:\\users\\lawrence\\anaconda3\\envs\\geo_env\\lib\\site-packages (from requests->folium) (2.0.12)\n",
      "Requirement already satisfied: certifi>=2017.4.17 in c:\\users\\lawrence\\anaconda3\\envs\\geo_env\\lib\\site-packages (from requests->folium) (2022.6.15)\n",
      "Requirement already satisfied: urllib3<1.27,>=1.21.1 in c:\\users\\lawrence\\anaconda3\\envs\\geo_env\\lib\\site-packages (from requests->folium) (1.26.9)\n",
      "Requirement already satisfied: descartes in c:\\users\\lawrence\\anaconda3\\envs\\geo_env\\lib\\site-packages (1.1.0)\n",
      "Requirement already satisfied: matplotlib in c:\\users\\lawrence\\anaconda3\\envs\\geo_env\\lib\\site-packages (from descartes) (3.5.2)\n",
      "Requirement already satisfied: pyparsing>=2.2.1 in c:\\users\\lawrence\\anaconda3\\envs\\geo_env\\lib\\site-packages (from matplotlib->descartes) (3.0.9)\n",
      "Requirement already satisfied: fonttools>=4.22.0 in c:\\users\\lawrence\\anaconda3\\envs\\geo_env\\lib\\site-packages (from matplotlib->descartes) (4.33.3)\n",
      "Requirement already satisfied: kiwisolver>=1.0.1 in c:\\users\\lawrence\\anaconda3\\envs\\geo_env\\lib\\site-packages (from matplotlib->descartes) (1.4.2)\n",
      "Requirement already satisfied: pillow>=6.2.0 in c:\\users\\lawrence\\anaconda3\\envs\\geo_env\\lib\\site-packages (from matplotlib->descartes) (9.1.0)\n",
      "Requirement already satisfied: cycler>=0.10 in c:\\users\\lawrence\\anaconda3\\envs\\geo_env\\lib\\site-packages (from matplotlib->descartes) (0.11.0)\n",
      "Requirement already satisfied: python-dateutil>=2.7 in c:\\users\\lawrence\\anaconda3\\envs\\geo_env\\lib\\site-packages (from matplotlib->descartes) (2.8.2)\n",
      "Requirement already satisfied: numpy>=1.17 in c:\\users\\lawrence\\anaconda3\\envs\\geo_env\\lib\\site-packages (from matplotlib->descartes) (1.22.4)\n",
      "Requirement already satisfied: packaging>=20.0 in c:\\users\\lawrence\\anaconda3\\envs\\geo_env\\lib\\site-packages (from matplotlib->descartes) (21.3)\n",
      "Requirement already satisfied: six>=1.5 in c:\\users\\lawrence\\anaconda3\\envs\\geo_env\\lib\\site-packages (from python-dateutil>=2.7->matplotlib->descartes) (1.16.0)\n",
      "Requirement already satisfied: rasterio in c:\\users\\lawrence\\anaconda3\\envs\\geo_env\\lib\\site-packages (1.3.0)\n",
      "Requirement already satisfied: cligj>=0.5 in c:\\users\\lawrence\\anaconda3\\envs\\geo_env\\lib\\site-packages (from rasterio) (0.7.2)\n",
      "Requirement already satisfied: attrs in c:\\users\\lawrence\\anaconda3\\envs\\geo_env\\lib\\site-packages (from rasterio) (21.4.0)\n",
      "Requirement already satisfied: click-plugins in c:\\users\\lawrence\\anaconda3\\envs\\geo_env\\lib\\site-packages (from rasterio) (1.1.1)\n",
      "Requirement already satisfied: certifi in c:\\users\\lawrence\\anaconda3\\envs\\geo_env\\lib\\site-packages (from rasterio) (2022.6.15)\n",
      "Requirement already satisfied: numpy in c:\\users\\lawrence\\anaconda3\\envs\\geo_env\\lib\\site-packages (from rasterio) (1.22.4)\n",
      "Requirement already satisfied: snuggs>=1.4.1 in c:\\users\\lawrence\\anaconda3\\envs\\geo_env\\lib\\site-packages (from rasterio) (1.4.7)\n",
      "Requirement already satisfied: setuptools in c:\\users\\lawrence\\anaconda3\\envs\\geo_env\\lib\\site-packages (from rasterio) (62.3.2)\n",
      "Requirement already satisfied: affine in c:\\users\\lawrence\\anaconda3\\envs\\geo_env\\lib\\site-packages (from rasterio) (2.3.1)\n",
      "Requirement already satisfied: click>=4.0 in c:\\users\\lawrence\\anaconda3\\envs\\geo_env\\lib\\site-packages (from rasterio) (8.1.3)\n",
      "Requirement already satisfied: colorama in c:\\users\\lawrence\\anaconda3\\envs\\geo_env\\lib\\site-packages (from click>=4.0->rasterio) (0.4.4)\n",
      "Requirement already satisfied: pyparsing>=2.1.6 in c:\\users\\lawrence\\anaconda3\\envs\\geo_env\\lib\\site-packages (from snuggs>=1.4.1->rasterio) (3.0.9)\n",
      "Requirement already satisfied: geopandas in c:\\users\\lawrence\\anaconda3\\envs\\geo_env\\lib\\site-packages (0.10.2)\n",
      "Requirement already satisfied: fiona>=1.8 in c:\\users\\lawrence\\anaconda3\\envs\\geo_env\\lib\\site-packages (from geopandas) (1.8.21)\n",
      "Requirement already satisfied: pandas>=0.25.0 in c:\\users\\lawrence\\anaconda3\\envs\\geo_env\\lib\\site-packages (from geopandas) (1.4.2)\n",
      "Requirement already satisfied: shapely>=1.6 in c:\\users\\lawrence\\anaconda3\\envs\\geo_env\\lib\\site-packages (from geopandas) (1.8.2)\n",
      "Requirement already satisfied: pyproj>=2.2.0 in c:\\users\\lawrence\\anaconda3\\envs\\geo_env\\lib\\site-packages (from geopandas) (3.3.1)\n",
      "Requirement already satisfied: attrs>=17 in c:\\users\\lawrence\\anaconda3\\envs\\geo_env\\lib\\site-packages (from fiona>=1.8->geopandas) (21.4.0)\n",
      "Requirement already satisfied: certifi in c:\\users\\lawrence\\anaconda3\\envs\\geo_env\\lib\\site-packages (from fiona>=1.8->geopandas) (2022.6.15)\n",
      "Requirement already satisfied: click>=4.0 in c:\\users\\lawrence\\anaconda3\\envs\\geo_env\\lib\\site-packages (from fiona>=1.8->geopandas) (8.1.3)\n",
      "Requirement already satisfied: cligj>=0.5 in c:\\users\\lawrence\\anaconda3\\envs\\geo_env\\lib\\site-packages (from fiona>=1.8->geopandas) (0.7.2)\n",
      "Requirement already satisfied: click-plugins>=1.0 in c:\\users\\lawrence\\anaconda3\\envs\\geo_env\\lib\\site-packages (from fiona>=1.8->geopandas) (1.1.1)\n",
      "Requirement already satisfied: six>=1.7 in c:\\users\\lawrence\\anaconda3\\envs\\geo_env\\lib\\site-packages (from fiona>=1.8->geopandas) (1.16.0)\n",
      "Requirement already satisfied: munch in c:\\users\\lawrence\\anaconda3\\envs\\geo_env\\lib\\site-packages (from fiona>=1.8->geopandas) (2.5.0)\n",
      "Requirement already satisfied: setuptools in c:\\users\\lawrence\\anaconda3\\envs\\geo_env\\lib\\site-packages (from fiona>=1.8->geopandas) (62.3.2)\n",
      "Requirement already satisfied: pytz>=2020.1 in c:\\users\\lawrence\\anaconda3\\envs\\geo_env\\lib\\site-packages (from pandas>=0.25.0->geopandas) (2022.1)\n",
      "Requirement already satisfied: numpy>=1.21.0 in c:\\users\\lawrence\\anaconda3\\envs\\geo_env\\lib\\site-packages (from pandas>=0.25.0->geopandas) (1.22.4)\n",
      "Requirement already satisfied: python-dateutil>=2.8.1 in c:\\users\\lawrence\\anaconda3\\envs\\geo_env\\lib\\site-packages (from pandas>=0.25.0->geopandas) (2.8.2)\n",
      "Requirement already satisfied: colorama in c:\\users\\lawrence\\anaconda3\\envs\\geo_env\\lib\\site-packages (from click>=4.0->fiona>=1.8->geopandas) (0.4.4)\n",
      "Requirement already satisfied: pandas in c:\\users\\lawrence\\anaconda3\\envs\\geo_env\\lib\\site-packages (1.4.2)\n",
      "Requirement already satisfied: pytz>=2020.1 in c:\\users\\lawrence\\anaconda3\\envs\\geo_env\\lib\\site-packages (from pandas) (2022.1)\n",
      "Requirement already satisfied: python-dateutil>=2.8.1 in c:\\users\\lawrence\\anaconda3\\envs\\geo_env\\lib\\site-packages (from pandas) (2.8.2)\n",
      "Requirement already satisfied: numpy>=1.21.0 in c:\\users\\lawrence\\anaconda3\\envs\\geo_env\\lib\\site-packages (from pandas) (1.22.4)\n",
      "Requirement already satisfied: six>=1.5 in c:\\users\\lawrence\\anaconda3\\envs\\geo_env\\lib\\site-packages (from python-dateutil>=2.8.1->pandas) (1.16.0)\n"
     ]
    }
   ],
   "source": [
    "!pip install sentinelsat\n",
    "!pip install folium\n",
    "!pip install descartes\n",
    "!pip install rasterio\n",
    "!pip install geopandas\n",
    "!pip install pandas"
   ]
  },
  {
   "cell_type": "markdown",
   "metadata": {
    "id": "ZBx5zMXuHzsD"
   },
   "source": [
    "Importing Libraries:"
   ]
  },
  {
   "cell_type": "code",
   "execution_count": 8,
   "metadata": {
    "id": "ei9hN-_1H20E"
   },
   "outputs": [],
   "source": [
    "from sentinelsat import SentinelAPI, read_geojson, geojson_to_wkt \n",
    "import pandas as pd\n",
    "import geopandas as gpd\n",
    "\n",
    "from os import path as op\n",
    "import ee\n",
    "import collections\n",
    "collections.Callable = collections.abc.Callable\n",
    "import folium\n",
    "import numpy as np\n",
    "import rasterio\n",
    "from shapely.geometry import MultiPolygon, Polygon\n",
    "import fiona\n",
    "\n",
    "import math\n",
    "import matplotlib # base python plotting library\n",
    "import matplotlib.pyplot as plt # submodule of matplotlib\n",
    "\n",
    "# To display plots, maps, charts etc in the notebook\n",
    "%matplotlib inline"
   ]
  },
  {
   "cell_type": "markdown",
   "metadata": {
    "id": "1efN4LURH9tx"
   },
   "source": [
    "Before we are able to use sentinelsat, we need to register a username in Copernicus Open Access Hub and note down your username and password and paste them here inside the code."
   ]
  },
  {
   "cell_type": "code",
   "execution_count": 9,
   "metadata": {
    "id": "IrXKH5J4H5-q"
   },
   "outputs": [],
   "source": [
    "from sentinelsat import SentinelAPI\n",
    "\n",
    "user = 'lawrence65' #I am sharinmg with you my details for the account so that you may avoid the hussle: you can register later on\n",
    "password = 'lawrence65' #user credentials\n",
    "api = SentinelAPI(user, password, 'https://scihub.copernicus.eu/dhus')"
   ]
  },
  {
   "cell_type": "markdown",
   "metadata": {
    "id": "a3539a8eIJ2O"
   },
   "source": [
    "You are now set to use sentinelsat and download Sentinel Satellite images. We then use boundary data for Central Guyana as you had shared. We are going to read it with Geopandas."
   ]
  },
  {
   "cell_type": "code",
   "execution_count": 10,
   "metadata": {
    "id": "nPl6LqCgII9h"
   },
   "outputs": [],
   "source": [
    "# Read in the Central_Guyana shapefile\n",
    "Central_Guyana = gpd.read_file(r'C:\\Users\\Lawrence\\AoI.shp')"
   ]
  },
  {
   "cell_type": "markdown",
   "metadata": {
    "id": "CMs4ClxoIRyB"
   },
   "source": [
    "One last step before we can search and download sentinel 2 images is to create a footprint from the Central_Guyana Shapefile Geometry. Here we will use Shapely Python library since our data is in Shapefiles and have read it already as Geopandas GeodataFrame. (Note that if you have Geojson data, sentinelsatprovides a handy way to convert your data into a proper format in the query)."
   ]
  },
  {
   "cell_type": "code",
   "execution_count": 11,
   "metadata": {
    "id": "vLi3LakRIU6a"
   },
   "outputs": [],
   "source": [
    "from shapely.geometry import MultiPolygon, Polygon\n",
    "\n",
    "footprint = None\n",
    "for i in Central_Guyana['geometry']:\n",
    "    footprint = i"
   ]
  },
  {
   "cell_type": "markdown",
   "metadata": {
    "id": "UdsE0RZBIXW6"
   },
   "source": [
    "Now we can run a query on the apiwe have created above. There are different ways you can construct your query here depending on your use case. In this example, we will create a query for Sentinel 2 images Level 2A with cloud coverage between 0 and 60 that fall or intersect with the footprint (Area of study:\"in our case Central Guyana\").NB: You can adjust the percentage depending on your case/Study area. For the time period, we are interested only in Sentinel Level 2A satellite images taken between '20190101' and '20190110’ (For reference on valid search queries please refer to scihub)."
   ]
  },
  {
   "cell_type": "code",
   "execution_count": 12,
   "metadata": {
    "id": "IvwKe-QaIavR"
   },
   "outputs": [],
   "source": [
    "products = api.query(footprint,\n",
    "                     date = ('20190101', '20190110'),\n",
    "                     platformname = 'Sentinel-2',\n",
    "                     processinglevel = 'Level-2A',\n",
    "                     cloudcoverpercentage = (0,60)\n",
    "                    )"
   ]
  },
  {
   "cell_type": "markdown",
   "metadata": {
    "id": "HidjCbu4Ic5y"
   },
   "source": [
    "Sorting the Sentinel 2 data"
   ]
  },
  {
   "cell_type": "code",
   "execution_count": 13,
   "metadata": {
    "id": "mBE7iBp5IfZy"
   },
   "outputs": [
    {
     "data": {
      "text/html": [
       "<div>\n",
       "<style scoped>\n",
       "    .dataframe tbody tr th:only-of-type {\n",
       "        vertical-align: middle;\n",
       "    }\n",
       "\n",
       "    .dataframe tbody tr th {\n",
       "        vertical-align: top;\n",
       "    }\n",
       "\n",
       "    .dataframe thead th {\n",
       "        text-align: right;\n",
       "    }\n",
       "</style>\n",
       "<table border=\"1\" class=\"dataframe\">\n",
       "  <thead>\n",
       "    <tr style=\"text-align: right;\">\n",
       "      <th></th>\n",
       "      <th>title</th>\n",
       "      <th>link</th>\n",
       "      <th>link_alternative</th>\n",
       "      <th>link_icon</th>\n",
       "      <th>summary</th>\n",
       "      <th>ondemand</th>\n",
       "      <th>ingestiondate</th>\n",
       "      <th>beginposition</th>\n",
       "      <th>endposition</th>\n",
       "      <th>orbitnumber</th>\n",
       "      <th>...</th>\n",
       "      <th>platformidentifier</th>\n",
       "      <th>orbitdirection</th>\n",
       "      <th>platformserialidentifier</th>\n",
       "      <th>processingbaseline</th>\n",
       "      <th>processinglevel</th>\n",
       "      <th>producttype</th>\n",
       "      <th>platformname</th>\n",
       "      <th>size</th>\n",
       "      <th>uuid</th>\n",
       "      <th>geometry</th>\n",
       "    </tr>\n",
       "  </thead>\n",
       "  <tbody>\n",
       "    <tr>\n",
       "      <th>b2fe4dfb-6f87-44ce-b014-ef2f4bce1382</th>\n",
       "      <td>S2A_MSIL2A_20190109T143751_N0211_R096_T20NQN_2...</td>\n",
       "      <td>https://scihub.copernicus.eu/dhus/odata/v1/Pro...</td>\n",
       "      <td>https://scihub.copernicus.eu/dhus/odata/v1/Pro...</td>\n",
       "      <td>https://scihub.copernicus.eu/dhus/odata/v1/Pro...</td>\n",
       "      <td>Date: 2019-01-09T14:37:51.024Z, Instrument: MS...</td>\n",
       "      <td>false</td>\n",
       "      <td>2019-01-10 01:24:33.690</td>\n",
       "      <td>2019-01-09 14:37:51.024</td>\n",
       "      <td>2019-01-09 14:37:51.024</td>\n",
       "      <td>18540</td>\n",
       "      <td>...</td>\n",
       "      <td>2015-028A</td>\n",
       "      <td>DESCENDING</td>\n",
       "      <td>Sentinel-2A</td>\n",
       "      <td>02.11</td>\n",
       "      <td>Level-2A</td>\n",
       "      <td>S2MSI2A</td>\n",
       "      <td>Sentinel-2</td>\n",
       "      <td>967.02 MB</td>\n",
       "      <td>b2fe4dfb-6f87-44ce-b014-ef2f4bce1382</td>\n",
       "      <td>POLYGON ((-60.21833 7.22931, -60.23113 7.17295...</td>\n",
       "    </tr>\n",
       "    <tr>\n",
       "      <th>5ca274c8-8c14-4133-ac79-c39bbe838c6f</th>\n",
       "      <td>S2B_MSIL2A_20190104T143749_N0211_R096_T20NPN_2...</td>\n",
       "      <td>https://scihub.copernicus.eu/dhus/odata/v1/Pro...</td>\n",
       "      <td>https://scihub.copernicus.eu/dhus/odata/v1/Pro...</td>\n",
       "      <td>https://scihub.copernicus.eu/dhus/odata/v1/Pro...</td>\n",
       "      <td>Date: 2019-01-04T14:37:49.024Z, Instrument: MS...</td>\n",
       "      <td>false</td>\n",
       "      <td>2019-01-04 22:08:11.497</td>\n",
       "      <td>2019-01-04 14:37:49.024</td>\n",
       "      <td>2019-01-04 14:37:49.024</td>\n",
       "      <td>9560</td>\n",
       "      <td>...</td>\n",
       "      <td>2017-013A</td>\n",
       "      <td>DESCENDING</td>\n",
       "      <td>Sentinel-2B</td>\n",
       "      <td>02.11</td>\n",
       "      <td>Level-2A</td>\n",
       "      <td>S2MSI2A</td>\n",
       "      <td>Sentinel-2</td>\n",
       "      <td>1.03 GB</td>\n",
       "      <td>5ca274c8-8c14-4133-ac79-c39bbe838c6f</td>\n",
       "      <td>POLYGON ((-62.09421 7.23693, -61.09988 7.23386...</td>\n",
       "    </tr>\n",
       "  </tbody>\n",
       "</table>\n",
       "<p>2 rows × 35 columns</p>\n",
       "</div>"
      ],
      "text/plain": [
       "                                                                                  title  \\\n",
       "b2fe4dfb-6f87-44ce-b014-ef2f4bce1382  S2A_MSIL2A_20190109T143751_N0211_R096_T20NQN_2...   \n",
       "5ca274c8-8c14-4133-ac79-c39bbe838c6f  S2B_MSIL2A_20190104T143749_N0211_R096_T20NPN_2...   \n",
       "\n",
       "                                                                                   link  \\\n",
       "b2fe4dfb-6f87-44ce-b014-ef2f4bce1382  https://scihub.copernicus.eu/dhus/odata/v1/Pro...   \n",
       "5ca274c8-8c14-4133-ac79-c39bbe838c6f  https://scihub.copernicus.eu/dhus/odata/v1/Pro...   \n",
       "\n",
       "                                                                       link_alternative  \\\n",
       "b2fe4dfb-6f87-44ce-b014-ef2f4bce1382  https://scihub.copernicus.eu/dhus/odata/v1/Pro...   \n",
       "5ca274c8-8c14-4133-ac79-c39bbe838c6f  https://scihub.copernicus.eu/dhus/odata/v1/Pro...   \n",
       "\n",
       "                                                                              link_icon  \\\n",
       "b2fe4dfb-6f87-44ce-b014-ef2f4bce1382  https://scihub.copernicus.eu/dhus/odata/v1/Pro...   \n",
       "5ca274c8-8c14-4133-ac79-c39bbe838c6f  https://scihub.copernicus.eu/dhus/odata/v1/Pro...   \n",
       "\n",
       "                                                                                summary  \\\n",
       "b2fe4dfb-6f87-44ce-b014-ef2f4bce1382  Date: 2019-01-09T14:37:51.024Z, Instrument: MS...   \n",
       "5ca274c8-8c14-4133-ac79-c39bbe838c6f  Date: 2019-01-04T14:37:49.024Z, Instrument: MS...   \n",
       "\n",
       "                                     ondemand           ingestiondate  \\\n",
       "b2fe4dfb-6f87-44ce-b014-ef2f4bce1382    false 2019-01-10 01:24:33.690   \n",
       "5ca274c8-8c14-4133-ac79-c39bbe838c6f    false 2019-01-04 22:08:11.497   \n",
       "\n",
       "                                               beginposition  \\\n",
       "b2fe4dfb-6f87-44ce-b014-ef2f4bce1382 2019-01-09 14:37:51.024   \n",
       "5ca274c8-8c14-4133-ac79-c39bbe838c6f 2019-01-04 14:37:49.024   \n",
       "\n",
       "                                                 endposition  orbitnumber  \\\n",
       "b2fe4dfb-6f87-44ce-b014-ef2f4bce1382 2019-01-09 14:37:51.024        18540   \n",
       "5ca274c8-8c14-4133-ac79-c39bbe838c6f 2019-01-04 14:37:49.024         9560   \n",
       "\n",
       "                                      ...  platformidentifier  orbitdirection  \\\n",
       "b2fe4dfb-6f87-44ce-b014-ef2f4bce1382  ...           2015-028A      DESCENDING   \n",
       "5ca274c8-8c14-4133-ac79-c39bbe838c6f  ...           2017-013A      DESCENDING   \n",
       "\n",
       "                                      platformserialidentifier  \\\n",
       "b2fe4dfb-6f87-44ce-b014-ef2f4bce1382               Sentinel-2A   \n",
       "5ca274c8-8c14-4133-ac79-c39bbe838c6f               Sentinel-2B   \n",
       "\n",
       "                                      processingbaseline  processinglevel  \\\n",
       "b2fe4dfb-6f87-44ce-b014-ef2f4bce1382               02.11         Level-2A   \n",
       "5ca274c8-8c14-4133-ac79-c39bbe838c6f               02.11         Level-2A   \n",
       "\n",
       "                                      producttype  platformname       size  \\\n",
       "b2fe4dfb-6f87-44ce-b014-ef2f4bce1382      S2MSI2A    Sentinel-2  967.02 MB   \n",
       "5ca274c8-8c14-4133-ac79-c39bbe838c6f      S2MSI2A    Sentinel-2    1.03 GB   \n",
       "\n",
       "                                                                      uuid  \\\n",
       "b2fe4dfb-6f87-44ce-b014-ef2f4bce1382  b2fe4dfb-6f87-44ce-b014-ef2f4bce1382   \n",
       "5ca274c8-8c14-4133-ac79-c39bbe838c6f  5ca274c8-8c14-4133-ac79-c39bbe838c6f   \n",
       "\n",
       "                                                                               geometry  \n",
       "b2fe4dfb-6f87-44ce-b014-ef2f4bce1382  POLYGON ((-60.21833 7.22931, -60.23113 7.17295...  \n",
       "5ca274c8-8c14-4133-ac79-c39bbe838c6f  POLYGON ((-62.09421 7.23693, -61.09988 7.23386...  \n",
       "\n",
       "[2 rows x 35 columns]"
      ]
     },
     "execution_count": 13,
     "metadata": {},
     "output_type": "execute_result"
    }
   ],
   "source": [
    "products_gdf = api.to_geodataframe(products)\n",
    "products_gdf_sorted = products_gdf.sort_values(['cloudcoverpercentage'], ascending=[True])\n",
    "products_gdf_sorted"
   ]
  },
  {
   "cell_type": "markdown",
   "metadata": {
    "id": "xUM-5IhcIjFP"
   },
   "source": [
    "Satellte Imagery Download: (Sentinel 2)\n",
    "\n",
    "From the results that are acquired above, you can now download your Sentinel 2 data (specific) from the list of outputs using it's ID(depending on which you've settled for) ."
   ]
  },
  {
   "cell_type": "code",
   "execution_count": 14,
   "metadata": {
    "id": "kdVwUMsFIlnM"
   },
   "outputs": [
    {
     "data": {
      "application/vnd.jupyter.widget-view+json": {
       "model_id": "d16d10edd12a4e7689931ef6011eeb0e",
       "version_major": 2,
       "version_minor": 0
      },
      "text/plain": [
       "Downloading S2A_MSIL2A_20190109T143751_N0211_R096_T20NQN_20190109T170017.zip:   0%|          | 0.00/1.01G [00:…"
      ]
     },
     "metadata": {},
     "output_type": "display_data"
    },
    {
     "data": {
      "application/vnd.jupyter.widget-view+json": {
       "model_id": "",
       "version_major": 2,
       "version_minor": 0
      },
      "text/plain": [
       "MD5 checksumming:   0%|          | 0.00/1.01G [00:00<?, ?B/s]"
      ]
     },
     "metadata": {},
     "output_type": "display_data"
    },
    {
     "data": {
      "text/plain": [
       "{'id': 'b2fe4dfb-6f87-44ce-b014-ef2f4bce1382',\n",
       " 'title': 'S2A_MSIL2A_20190109T143751_N0211_R096_T20NQN_20190109T170017',\n",
       " 'size': 1014050163,\n",
       " 'md5': '97cc763b6391b34cc0d065777425b7b0',\n",
       " 'date': datetime.datetime(2019, 1, 9, 14, 37, 51, 24000),\n",
       " 'footprint': 'POLYGON((-60.21833284844435 7.229308889858343,-60.23112984057468 7.172951534258405,-60.26482735539315 7.024209748964548,-60.29837698427468 6.875500997171449,-60.331919646073935 6.726900280255413,-60.36531511118846 6.57834896049319,-60.398530785590815 6.42980670596945,-60.432759020974046 6.28165965236307,-60.44250661148195 6.238186112249442,-61.192661063507735 6.24146759896048,-61.18898069721401 7.234226743659733,-60.21833284844435 7.229308889858343))',\n",
       " 'url': \"https://scihub.copernicus.eu/dhus/odata/v1/Products('b2fe4dfb-6f87-44ce-b014-ef2f4bce1382')/$value\",\n",
       " 'Online': True,\n",
       " 'Creation Date': datetime.datetime(2019, 1, 10, 1, 28, 32, 920000),\n",
       " 'Ingestion Date': datetime.datetime(2019, 1, 10, 1, 24, 33, 690000),\n",
       " 'quicklook_url': \"https://scihub.copernicus.eu/dhus/odata/v1/Products('b2fe4dfb-6f87-44ce-b014-ef2f4bce1382')/Products('Quicklook')/$value\",\n",
       " 'path': 'S2A_MSIL2A_20190109T143751_N0211_R096_T20NQN_20190109T170017.zip',\n",
       " 'downloaded_bytes': 1014050163}"
      ]
     },
     "execution_count": 14,
     "metadata": {},
     "output_type": "execute_result"
    }
   ],
   "source": [
    "api.download(\"b2fe4dfb-6f87-44ce-b014-ef2f4bce1382\")"
   ]
  },
  {
   "cell_type": "markdown",
   "metadata": {},
   "source": [
    "Exploring the Satellite Imagery:\n",
    "Time to use python’s Rasterio library since satellite images are grids of pixel-values and can be interpreted as multidimensional arrays."
   ]
  },
  {
   "cell_type": "markdown",
   "metadata": {},
   "source": [
    "Reading the Imagery from our local machine:"
   ]
  },
  {
   "cell_type": "code",
   "execution_count": 27,
   "metadata": {},
   "outputs": [],
   "source": [
    "image_file = \"S2A_MSIL2A_20190109T143751_N0211_R096_T20NQN_20190109T170017.zip\"  # just add the image downloaded from Sentinelsat.\n",
    "sat_data = rasterio.open(image_file)"
   ]
  },
  {
   "cell_type": "markdown",
   "metadata": {},
   "source": [
    "Image dimension in meters as well rows and columns:"
   ]
  },
  {
   "cell_type": "code",
   "execution_count": 28,
   "metadata": {},
   "outputs": [
    {
     "name": "stdout",
     "output_type": "stream",
     "text": [
      "Width: 512.0, Height: -512.0\n",
      "Rows: 512, Columns: 512\n"
     ]
    }
   ],
   "source": [
    "width_in_projected_units = sat_data.bounds.right - sat_data.bounds.left\n",
    "height_in_projected_units = sat_data.bounds.top - sat_data.bounds.bottom\n",
    "print(\"Width: {}, Height: {}\".format(width_in_projected_units, height_in_projected_units))\n",
    "print(\"Rows: {}, Columns: {}\".format(sat_data.height, sat_data.width))"
   ]
  },
  {
   "cell_type": "markdown",
   "metadata": {},
   "source": [
    "Pixel conversion to latitude and longitude:"
   ]
  },
  {
   "cell_type": "code",
   "execution_count": 29,
   "metadata": {},
   "outputs": [
    {
     "name": "stdout",
     "output_type": "stream",
     "text": [
      "Top left corner coordinates: (0.0, 0.0)\n",
      "Bottom right corner coordinates: (511.0, 511.0)\n"
     ]
    }
   ],
   "source": [
    "# Upper left pixel\n",
    "row_min = 0\n",
    "col_min = 0\n",
    "# Lower right pixel.  Rows and columns are zero indexing.\n",
    "row_max = sat_data.height - 1\n",
    "col_max = sat_data.width - 1\n",
    "# Transform coordinates with the dataset's affine transformation.\n",
    "topleft = sat_data.transform * (row_min, col_min)\n",
    "botright = sat_data.transform * (row_max, col_max)\n",
    "print(\"Top left corner coordinates: {}\".format(topleft))\n",
    "print(\"Bottom right corner coordinates: {}\".format(botright))"
   ]
  },
  {
   "cell_type": "markdown",
   "metadata": {},
   "source": [
    "Bands:\n",
    "Storing the bands(B,G,R,N infrared) in numpy array:\n"
   ]
  },
  {
   "cell_type": "code",
   "execution_count": 32,
   "metadata": {},
   "outputs": [
    {
     "name": "stdout",
     "output_type": "stream",
     "text": [
      "0\n",
      "()\n"
     ]
    }
   ],
   "source": [
    "print(sat_data.count)\n",
    "# sequence of band indexes\n",
    "print(sat_data.indexes)"
   ]
  },
  {
   "cell_type": "markdown",
   "metadata": {},
   "source": [
    "Raster Mosaic with Python\n",
    "Let us first import the libraries and create the output folder with Python path lib.For this step you will use satellite imagery bands already downloaded in your local machine e.g Landsat imagery \n"
   ]
  },
  {
   "cell_type": "code",
   "execution_count": null,
   "metadata": {},
   "outputs": [],
   "source": [
    "from rasterio.plot import show\n",
    "from rasterio.merge import merge\n",
    "import rasterio as rio\n",
    "from pathlib import Pathpath = Path('data/')\n",
    "Path('output').mkdir(parents=True, exist_ok=True)\n",
    "output_path = 'output/mosaic_output.tif'"
   ]
  },
  {
   "cell_type": "markdown",
   "metadata": {},
   "source": [
    "Now we iterate over the available .tif files in the data folder. We will merge all files in this data folder and create a mosaic from them. We also create an empty list to hold the files in the data folder."
   ]
  },
  {
   "cell_type": "code",
   "execution_count": null,
   "metadata": {},
   "outputs": [],
   "source": [
    "raster_files = list(path.iterdir())\n",
    "raster_to_mosiac = []"
   ]
  },
  {
   "cell_type": "markdown",
   "metadata": {},
   "source": [
    "We then loop through the raster files, open them with rasterio and append them to the raster_to_mosiac list we created above."
   ]
  },
  {
   "cell_type": "code",
   "execution_count": null,
   "metadata": {},
   "outputs": [],
   "source": [
    "for p in raster_files:\n",
    "    raster = rio.open(p)\n",
    "    raster_to_mosiac.append(raster)"
   ]
  },
  {
   "cell_type": "markdown",
   "metadata": {},
   "source": [
    "From this stage on, it is easy. We use the merge() method from rasterio to create the mosaic. We also create the output transformation parameters to use later."
   ]
  },
  {
   "cell_type": "code",
   "execution_count": null,
   "metadata": {},
   "outputs": [],
   "source": [
    "mosaic, output = merge(raster_to_mosiac)"
   ]
  },
  {
   "cell_type": "markdown",
   "metadata": {},
   "source": [
    "Now, we copy the raster's metadata and update it to match the height and width of the mosaic."
   ]
  },
  {
   "cell_type": "code",
   "execution_count": null,
   "metadata": {},
   "outputs": [],
   "source": [
    "output_meta = raster.meta.copy()\n",
    "output_meta.update(\n",
    "    {\"driver\": \"GTiff\",\n",
    "        \"height\": mosaic.shape[1],\n",
    "        \"width\": mosaic.shape[2],\n",
    "        \"transform\": output,\n",
    "    }\n",
    ")"
   ]
  },
  {
   "cell_type": "markdown",
   "metadata": {},
   "source": [
    "In this final stage, we write the mosaiced file in a local folder."
   ]
  },
  {
   "cell_type": "code",
   "execution_count": null,
   "metadata": {},
   "outputs": [],
   "source": [
    "with rio.open(output_path, “w”, **output_meta) as m:\n",
    "    m.write(mosaic)"
   ]
  },
  {
   "cell_type": "markdown",
   "metadata": {},
   "source": [
    "And there you have your mosaiced raster image!"
   ]
  },
  {
   "cell_type": "markdown",
   "metadata": {},
   "source": [
    "Visualizing the Satellite Imagery: Colour Balance:"
   ]
  },
  {
   "cell_type": "code",
   "execution_count": null,
   "metadata": {},
   "outputs": [],
   "source": [
    "# Load the 4 bands into 2d arrays - recall that we previously learned PlanetScope band order is BGRN.\n",
    "b, g, r, n = sat_data.read()\n",
    "# Displaying the blue band.\n",
    "fig = plt.imshow(b)\n",
    "plt.show()"
   ]
  },
  {
   "cell_type": "code",
   "execution_count": null,
   "metadata": {},
   "outputs": [],
   "source": [
    "# Displaying the green band.\n",
    "fig = plt.imshow(g)\n",
    "fig.set_cmap('gist_earth')\n",
    "plt.show()"
   ]
  },
  {
   "cell_type": "code",
   "execution_count": null,
   "metadata": {},
   "outputs": [],
   "source": [
    "# Displaying the red band.\n",
    "fig = plt.imshow(r)\n",
    "fig.set_cmap('inferno')\n",
    "plt.colorbar()\n",
    "plt.show()"
   ]
  },
  {
   "cell_type": "code",
   "execution_count": null,
   "metadata": {},
   "outputs": [],
   "source": [
    "# Displaying the infrared band.\n",
    "fig = plt.imshow(n)\n",
    "fig.set_cmap('winter')\n",
    "plt.colorbar()\n",
    "plt.show()"
   ]
  }
 ],
 "metadata": {
  "colab": {
   "collapsed_sections": [],
   "name": "Accessing Satellie Imagery using Python.ipynb",
   "provenance": []
  },
  "kernelspec": {
   "display_name": "Python 3 (ipykernel)",
   "language": "python",
   "name": "python3"
  },
  "language_info": {
   "codemirror_mode": {
    "name": "ipython",
    "version": 3
   },
   "file_extension": ".py",
   "mimetype": "text/x-python",
   "name": "python",
   "nbconvert_exporter": "python",
   "pygments_lexer": "ipython3",
   "version": "3.9.7"
  }
 },
 "nbformat": 4,
 "nbformat_minor": 1
}
