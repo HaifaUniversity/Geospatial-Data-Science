{
 "cells": [
  {
   "cell_type": "markdown",
   "id": "ad92f283",
   "metadata": {},
   "source": [
    "Before you turn this problem in, make sure everything runs as expected. First, **restart the kernel** (in the menubar, select Kernel$\\rightarrow$Restart) and then **run all cells** (in the menubar, select Cell$\\rightarrow$Run All).\n",
    "\n",
    "Make sure you fill in any place that says `YOUR CODE HERE` or \"YOUR ANSWER HERE\", as well as your name and collaborators below:"
   ]
  },
  {
   "cell_type": "code",
   "execution_count": 1,
   "id": "22233580",
   "metadata": {},
   "outputs": [],
   "source": [
    "NAME = \"swafdilck\"\n",
    "COLLABORATORS = \"swafdilck,et.al\""
   ]
  },
  {
   "cell_type": "markdown",
   "id": "221fce2d",
   "metadata": {},
   "source": [
    "---"
   ]
  },
  {
   "cell_type": "markdown",
   "id": "be320726",
   "metadata": {
    "deletable": false,
    "editable": false,
    "nbgrader": {
     "cell_type": "markdown",
     "checksum": "6d36cf31c3ffca9c7f98560973142024",
     "grade": false,
     "grade_id": "cell-73f5c4131bdaad9b",
     "locked": true,
     "schema_version": 3,
     "solution": false,
     "task": false
    }
   },
   "source": [
    "# Module 2 Assessed Exercise: More Manipulations with the Field Calculator\n",
    "\n",
    "This template aims to help you developing the key functions for your MGRS coodinates translator. Specificly, you will need to develop two functions for the simple local case: one for translating x coordinates, one for translating y coorinates. Similarly, two more additional cells will be given for your more generic implementation. Here, we won't be using pyqgis. The functions you developed here can be, however, used in the Field Calculator in QGIS GUI for UTM coordinates calculation."
   ]
  },
  {
   "cell_type": "markdown",
   "id": "32a01fe6",
   "metadata": {
    "deletable": false,
    "editable": false,
    "nbgrader": {
     "cell_type": "markdown",
     "checksum": "13ad03d30c8ce7b213088e94cb158835",
     "grade": false,
     "grade_id": "cell-a4f96c43a65b6138",
     "locked": true,
     "schema_version": 3,
     "solution": false,
     "task": false
    }
   },
   "source": [
    "### Local MGRS/UTM translator (i.e., the 48R Grid Zone)\n",
    "Please use the following cells for developing codes for the simple case. (Reminder: your code should be able to handle spaces within MGRS string as shown in the example dataset. This is a common task when you work with human input data). Example input: 'YS 374671'"
   ]
  },
  {
   "cell_type": "code",
   "execution_count": 3,
   "id": "b72ea29b",
   "metadata": {},
   "outputs": [],
   "source": [
    "# !pip install mgrs"
   ]
  },
  {
   "cell_type": "code",
   "execution_count": 4,
   "id": "4a2146ba",
   "metadata": {},
   "outputs": [],
   "source": [
    "import mgrs"
   ]
  },
  {
   "cell_type": "code",
   "execution_count": 5,
   "id": "b0d16429",
   "metadata": {},
   "outputs": [
    {
     "name": "stdout",
     "output_type": "stream",
     "text": [
      "48RYS374671\n"
     ]
    }
   ],
   "source": [
    "Input=input()\n",
    "with open('coordinate.txt', 'w') as f:\n",
    "   f.write(Input)"
   ]
  },
  {
   "cell_type": "code",
   "execution_count": 6,
   "id": "b2be346f",
   "metadata": {},
   "outputs": [
    {
     "data": {
      "text/plain": [
       "'39.940574445115615'"
      ]
     },
     "execution_count": 6,
     "metadata": {},
     "output_type": "execute_result"
    }
   ],
   "source": [
    "def mgrsToUtmX(mgrs_raw):\n",
    "    '''return the UTM x coordinate as a number of a given MGRS coordinates string'''\n",
    "\n",
    "    import mgrs\n",
    "\n",
    "    try:\n",
    "\n",
    "     file=open(\"coordinate.txt\",\"r+\",encoding=\"utf-8\") \n",
    "     coordinate=file.readlines() \n",
    "\n",
    "    except FileNotFoundError:\n",
    "      print(\"coordinate.txt not found!\")\n",
    "      exit()\n",
    "\n",
    "    file.seek(0) #The top row operation in the coordinate.txt file\n",
    "\n",
    "     #Determining whether the coordinates are MGRS or Geographic.\n",
    "    firstline=file.readline()\n",
    "    spaceindex=firstline.find(\" \")\n",
    "    control=firstline[spaceindex]\n",
    "\n",
    "    if control == \" \":\n",
    "     print (\"Geographic > MGRS conversion type is selected.\")\n",
    "     for c in coordinate:\n",
    "      \n",
    "        m = mgrs.MGRS()\n",
    "        c=c.encode() #Converting string variable to byte data type\n",
    "        d = m.MGRSToUTM(c)\n",
    "        d=str(d)\n",
    "        index=d.find(\",\")\n",
    "        l=len(d)\n",
    "        latitude=d[1:index]\n",
    "        longitude=d[(index+2):(l-1)]\n",
    "        file2=open(\"coordinate_UTM.txt\",\"a+\",encoding=\"utf-8\")\n",
    "        file2.write(longitude+\" \"+latitude+\"\\n\")\n",
    "\n",
    "(latitude)"
   ]
  },
  {
   "cell_type": "code",
   "execution_count": 19,
   "id": "839af218",
   "metadata": {},
   "outputs": [
    {
     "data": {
      "text/plain": [
       "(48, 'N', 737400.0, 3167100.0)"
      ]
     },
     "execution_count": 19,
     "metadata": {},
     "output_type": "execute_result"
    }
   ],
   "source": [
    "convert = mgrs.MGRS()\n",
    "coords = u\"48RYS374671\"\n",
    "convert.MGRSToUTM(coords)"
   ]
  },
  {
   "cell_type": "code",
   "execution_count": null,
   "id": "800f2165",
   "metadata": {
    "deletable": false,
    "editable": false,
    "nbgrader": {
     "cell_type": "code",
     "checksum": "ea879576b2be46e1e6ac8ca207f5f932",
     "grade": true,
     "grade_id": "local_mgrsx_test1",
     "locked": true,
     "points": 1,
     "schema_version": 3,
     "solution": false,
     "task": false
    }
   },
   "outputs": [],
   "source": [
    "'''test your implementation with example test case'''\n",
    "assert mgrsToUtmX('YS374671')==737400, 'YS374671 should be 737400 in UTM x coordinate'\n",
    "print('success!')"
   ]
  },
  {
   "cell_type": "code",
   "execution_count": null,
   "id": "9e2285de",
   "metadata": {
    "deletable": false,
    "editable": false,
    "nbgrader": {
     "cell_type": "code",
     "checksum": "67571917e0fd130f118df5a48a22538b",
     "grade": true,
     "grade_id": "cell-7449bc8ff985add3",
     "locked": true,
     "points": 1,
     "schema_version": 3,
     "solution": false,
     "task": false
    }
   },
   "outputs": [],
   "source": [
    "'''hidden tests will be executed after submission'''"
   ]
  },
  {
   "cell_type": "code",
   "execution_count": 23,
   "id": "b0249362",
   "metadata": {
    "deletable": false,
    "nbgrader": {
     "cell_type": "code",
     "checksum": "1729f68167b6b49db8eb315dc20441fb",
     "grade": false,
     "grade_id": "local_mgrsy",
     "locked": false,
     "schema_version": 3,
     "solution": true,
     "task": false
    }
   },
   "outputs": [
    {
     "data": {
      "text/plain": [
       "'32.852575679878804'"
      ]
     },
     "execution_count": 23,
     "metadata": {},
     "output_type": "execute_result"
    }
   ],
   "source": [
    "def mgrsToUtmY(mgrs_raw):\n",
    "    '''return the UTM y coordinate as a number of a given MGRS coordinates string'''\n",
    "    import mgrs\n",
    "\n",
    "    try:\n",
    "\n",
    "     file=open(\"coordinate.txt\",\"r+\",encoding=\"utf-8\") \n",
    "     coordinate=file.readlines() \n",
    "\n",
    "    except FileNotFoundError:\n",
    "      print(\"coordinate.txt not found!\")\n",
    "      exit()\n",
    "\n",
    "    file.seek(0) #The top row operation in the coordinate.txt file\n",
    "\n",
    "     #Determining whether the coordinates are MGRS or Geographic.\n",
    "    firstline=file.readline()\n",
    "    spaceindex=firstline.find(\" \")\n",
    "    control=firstline[spaceindex]\n",
    "\n",
    "    if control == \" \":\n",
    "     print (\"Geographic > MGRS conversion type is selected.\")\n",
    "     for c in coordinate:\n",
    "      \n",
    "        m = mgrs.MGRS()\n",
    "        c=c.encode() #Converting string variable to byte data type\n",
    "        d = m.MGRSToUTM(c)\n",
    "        d=str(d)\n",
    "        index=d.find(\",\")\n",
    "        l=len(d)\n",
    "        latitude=d[1:index]\n",
    "        longitude=d[(index+2):(l-1)]\n",
    "        file2=open(\"coordinate_UTM.txt\",\"a+\",encoding=\"utf-8\")\n",
    "        file2.write(longitude+\" \"+latitude+\"\\n\")\n",
    "\n",
    "(longitude)\n"
   ]
  },
  {
   "cell_type": "code",
   "execution_count": null,
   "id": "01aaf641",
   "metadata": {
    "deletable": false,
    "editable": false,
    "nbgrader": {
     "cell_type": "code",
     "checksum": "a57d7cdbc103fefc1300318829a3f322",
     "grade": true,
     "grade_id": "local_mgrsy_test1",
     "locked": true,
     "points": 1,
     "schema_version": 3,
     "solution": false,
     "task": false
    }
   },
   "outputs": [],
   "source": [
    "'''test your implementation with an example test case'''\n",
    "assert mgrsToUtmY('YS374671')==1167100, 'YS374671 should be 1167100 in UTM y coordinate'\n",
    "print('success!')"
   ]
  },
  {
   "cell_type": "code",
   "execution_count": null,
   "id": "01f9a180",
   "metadata": {
    "deletable": false,
    "editable": false,
    "nbgrader": {
     "cell_type": "code",
     "checksum": "371008dcb568844d1155044077f992f7",
     "grade": true,
     "grade_id": "cell-36a97c19da14ea2a",
     "locked": true,
     "points": 1,
     "schema_version": 3,
     "solution": false,
     "task": false
    }
   },
   "outputs": [],
   "source": [
    "'''hidden tests will be executed after submission'''"
   ]
  },
  {
   "cell_type": "markdown",
   "id": "f5242fc4",
   "metadata": {
    "deletable": false,
    "editable": false,
    "nbgrader": {
     "cell_type": "markdown",
     "checksum": "06b84afae812dfb438e02fb04d80dd87",
     "grade": false,
     "grade_id": "cell-a007809add5d75d9",
     "locked": true,
     "schema_version": 3,
     "solution": false,
     "task": false
    }
   },
   "source": [
    "### Global MGRS/UTM translator\n",
    "In this section, you will extend the functionality of the translaor you just implemented allowing it to be able to deal with data from different Grid Junction Zones. The full MGRS coordinates including its zone code in the front will be provided as input to the functions (e.g., '31U CT0376087415')."
   ]
  },
  {
   "cell_type": "code",
   "execution_count": 28,
   "id": "b5c87137",
   "metadata": {
    "deletable": false,
    "nbgrader": {
     "cell_type": "code",
     "checksum": "6010b4a40b34f526384553340901614b",
     "grade": false,
     "grade_id": "local_mgrsx",
     "locked": false,
     "schema_version": 3,
     "solution": true,
     "task": false
    }
   },
   "outputs": [
    {
     "name": "stdout",
     "output_type": "stream",
     "text": [
      "48RYS374671\n"
     ]
    }
   ],
   "source": [
    "Input=input()\n",
    "with open('coordinate.txt', 'w') as f:\n",
    "   f.write(Input)"
   ]
  },
  {
   "cell_type": "code",
   "execution_count": 29,
   "id": "8910cf32",
   "metadata": {
    "deletable": false,
    "nbgrader": {
     "cell_type": "code",
     "checksum": "848836e3f79694ccfd8adc6fe8c8fed0",
     "grade": false,
     "grade_id": "global_mgrsx",
     "locked": false,
     "schema_version": 3,
     "solution": true,
     "task": false
    }
   },
   "outputs": [
    {
     "data": {
      "text/plain": [
       "'39.940574445115615'"
      ]
     },
     "execution_count": 29,
     "metadata": {},
     "output_type": "execute_result"
    }
   ],
   "source": [
    "def mgrsToUtmX_Global(mgrs_raw):\n",
    "    '''return the UTM x coordinate as a number of a given MGRS coordinates string'''\n",
    "\n",
    "    import mgrs\n",
    "\n",
    "    try:\n",
    "\n",
    "     file=open(\"coordinate.txt\",\"r+\",encoding=\"utf-8\") \n",
    "     coordinate=file.readlines() \n",
    "\n",
    "    except FileNotFoundError:\n",
    "      print(\"coordinate.txt not found!\")\n",
    "      exit()\n",
    "\n",
    "    file.seek(0) #The top row operation in the coordinate.txt file\n",
    "\n",
    "     #Determining whether the coordinates are MGRS or Geographic.\n",
    "    firstline=file.readline()\n",
    "    spaceindex=firstline.find(\" \")\n",
    "    control=firstline[spaceindex]\n",
    "\n",
    "    if control == \" \":\n",
    "     print (\"Geographic > MGRS conversion type is selected.\")\n",
    "     for c in coordinate:\n",
    "      \n",
    "        m = mgrs.MGRS()\n",
    "        c=c.encode() #Converting string variable to byte data type\n",
    "        d = m.MGRSToUTM(c)\n",
    "        d=str(d)\n",
    "        index=d.find(\",\")\n",
    "        l=len(d)\n",
    "        latitude=d[1:index]\n",
    "        longitude=d[(index+2):(l-1)]\n",
    "        file2=open(\"coordinate_UTM.txt\",\"a+\",encoding=\"utf-8\")\n",
    "        file2.write(longitude+\" \"+latitude+\"\\n\")\n",
    "\n",
    "(latitude)"
   ]
  },
  {
   "cell_type": "code",
   "execution_count": null,
   "id": "8f173688",
   "metadata": {
    "deletable": false,
    "editable": false,
    "nbgrader": {
     "cell_type": "code",
     "checksum": "3434d8b7ef7438d57832f6c69fe426d5",
     "grade": true,
     "grade_id": "global_mgrsx_tests",
     "locked": true,
     "points": 1,
     "schema_version": 3,
     "solution": false,
     "task": false
    }
   },
   "outputs": [],
   "source": [
    "'''test your implementation with an example test case'''\n",
    "assert mgrsToUtmX_Global('48RYS374671')==737400, '48RYS374671 should be 737400 in UTM x coordinate'\n",
    "print('success!')"
   ]
  },
  {
   "cell_type": "code",
   "execution_count": null,
   "id": "2f61cbd9",
   "metadata": {
    "deletable": false,
    "editable": false,
    "nbgrader": {
     "cell_type": "code",
     "checksum": "a5787f01d09c166a1113416aab6ed88e",
     "grade": true,
     "grade_id": "cell-64b630c5832ceaa4",
     "locked": true,
     "points": 1,
     "schema_version": 3,
     "solution": false,
     "task": false
    }
   },
   "outputs": [],
   "source": [
    "'''hidden tests will be executed after submission'''"
   ]
  },
  {
   "cell_type": "code",
   "execution_count": 30,
   "id": "10c5c46f",
   "metadata": {
    "deletable": false,
    "nbgrader": {
     "cell_type": "code",
     "checksum": "f501baa1845e70e1add9e5f88d36e800",
     "grade": false,
     "grade_id": "global_mgrsy",
     "locked": false,
     "schema_version": 3,
     "solution": true,
     "task": false
    }
   },
   "outputs": [
    {
     "data": {
      "text/plain": [
       "'32.852575679878804'"
      ]
     },
     "execution_count": 30,
     "metadata": {},
     "output_type": "execute_result"
    }
   ],
   "source": [
    "def mgrsToUtmY_Global(mgrs_raw):\n",
    "    '''return the UTM y coordinate as a number of a given MGRS coordinates string'''\n",
    "    import mgrs\n",
    "\n",
    "    try:\n",
    "\n",
    "     file=open(\"coordinate.txt\",\"r+\",encoding=\"utf-8\") \n",
    "     coordinate=file.readlines() \n",
    "\n",
    "    except FileNotFoundError:\n",
    "      print(\"coordinate.txt not found!\")\n",
    "      exit()\n",
    "\n",
    "    file.seek(0) #The top row operation in the coordinate.txt file\n",
    "\n",
    "     #Determining whether the coordinates are MGRS or Geographic.\n",
    "    firstline=file.readline()\n",
    "    spaceindex=firstline.find(\" \")\n",
    "    control=firstline[spaceindex]\n",
    "\n",
    "    if control == \" \":\n",
    "     print (\"Geographic > MGRS conversion type is selected.\")\n",
    "     for c in coordinate:\n",
    "      \n",
    "        m = mgrs.MGRS()\n",
    "        c=c.encode() #Converting string variable to byte data type\n",
    "        d = m.MGRSToUTM(c)\n",
    "        d=str(d)\n",
    "        index=d.find(\",\")\n",
    "        l=len(d)\n",
    "        latitude=d[1:index]\n",
    "        longitude=d[(index+2):(l-1)]\n",
    "        file2=open(\"coordinate_UTM.txt\",\"a+\",encoding=\"utf-8\")\n",
    "        file2.write(longitude+\" \"+latitude+\"\\n\")\n",
    "\n",
    "(longitude)\n"
   ]
  },
  {
   "cell_type": "code",
   "execution_count": 31,
   "id": "87958cbf",
   "metadata": {},
   "outputs": [
    {
     "data": {
      "text/plain": [
       "(48, 'N', 737400.0, 3167100.0)"
      ]
     },
     "execution_count": 31,
     "metadata": {},
     "output_type": "execute_result"
    }
   ],
   "source": [
    "convert = mgrs.MGRS()\n",
    "coords = u\"48RYS374671\"\n",
    "convert.MGRSToUTM(coords)"
   ]
  },
  {
   "cell_type": "code",
   "execution_count": null,
   "id": "2597c57d",
   "metadata": {
    "deletable": false,
    "editable": false,
    "nbgrader": {
     "cell_type": "code",
     "checksum": "ed2f918f1a73f17edfa644d3f0e0bf3e",
     "grade": true,
     "grade_id": "global_mgrsy_test1",
     "locked": true,
     "points": 1,
     "schema_version": 3,
     "solution": false,
     "task": false
    }
   },
   "outputs": [],
   "source": [
    "'''test your implementation with example test cases'''\n",
    "assert mgrsToUtmY_Global('48RYS374671')%2000000==1167100, '48RYS374671 should be 1167100 in UTM y coordinate within its 2000Km block'\n",
    "assert mgrsToUtmY_Global('48RYS374671')==3167100, '48RYS374671 should be 3167100 in UTM y coordinate'\n",
    "print('success!')"
   ]
  },
  {
   "cell_type": "code",
   "execution_count": null,
   "id": "d296e9bf",
   "metadata": {
    "deletable": false,
    "editable": false,
    "nbgrader": {
     "cell_type": "code",
     "checksum": "e749a6cda1ea9d29e172703dcd584f09",
     "grade": true,
     "grade_id": "cell-e1d0989ec738192e",
     "locked": true,
     "points": 1,
     "schema_version": 3,
     "solution": false,
     "task": false
    }
   },
   "outputs": [],
   "source": [
    "'''hidden tests will be executed after submission'''"
   ]
  }
 ],
 "metadata": {
  "kernelspec": {
   "display_name": "Python 3 (ipykernel)",
   "language": "python",
   "name": "python3"
  },
  "language_info": {
   "codemirror_mode": {
    "name": "ipython",
    "version": 3
   },
   "file_extension": ".py",
   "mimetype": "text/x-python",
   "name": "python",
   "nbconvert_exporter": "python",
   "pygments_lexer": "ipython3",
   "version": "3.10.4"
  }
 },
 "nbformat": 4,
 "nbformat_minor": 5
}
