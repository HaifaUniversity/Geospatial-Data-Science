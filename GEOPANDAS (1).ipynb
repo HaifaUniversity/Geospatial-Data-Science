{
  "cells": [
    {
      "cell_type": "markdown",
      "metadata": {
        "id": "1Rm04MzPDO6C"
      },
      "source": [
        "Geopandas is as the name suggests:\n",
        "\n",
        "GeoPandas = pandas + geo\n",
        "GeoPandas is an open-source package that gives you access to all of the functionality of pandas, which is the primary data analysis tool for working with tabular data in Python. GeoPandas extends pandas with attributes and methods for working with geospatial data.\n",
        "\n",
        "Consists of/ Depends on:\n",
        "Shapely:- For Geometric operations.\n",
        "Fiona:- For file access.\n",
        "Matplotlib:- For plotting."
      ]
    },
    {
      "cell_type": "markdown",
      "metadata": {
        "id": "iy1aw4RtR3sm"
      },
      "source": [
        "# Installation."
      ]
    },
    {
      "cell_type": "code",
      "execution_count": 30,
      "metadata": {
        "colab": {
          "base_uri": "https://localhost:8080/"
        },
        "id": "MdXqamBqR7cE",
        "outputId": "43afaee6-491d-42f4-f872-5c3042ec9055"
      },
      "outputs": [
        {
          "output_type": "stream",
          "name": "stdout",
          "text": [
            "Looking in indexes: https://pypi.org/simple, https://us-python.pkg.dev/colab-wheels/public/simple/\n",
            "Requirement already satisfied: geopandas in /usr/local/lib/python3.7/dist-packages (0.10.2)\n",
            "Requirement already satisfied: fiona>=1.8 in /usr/local/lib/python3.7/dist-packages (from geopandas) (1.8.21)\n",
            "Requirement already satisfied: shapely>=1.6 in /usr/local/lib/python3.7/dist-packages (from geopandas) (1.8.2)\n",
            "Requirement already satisfied: pyproj>=2.2.0 in /usr/local/lib/python3.7/dist-packages (from geopandas) (3.2.1)\n",
            "Requirement already satisfied: pandas>=0.25.0 in /usr/local/lib/python3.7/dist-packages (from geopandas) (1.3.5)\n",
            "Requirement already satisfied: attrs>=17 in /usr/local/lib/python3.7/dist-packages (from fiona>=1.8->geopandas) (22.1.0)\n",
            "Requirement already satisfied: click-plugins>=1.0 in /usr/local/lib/python3.7/dist-packages (from fiona>=1.8->geopandas) (1.1.1)\n",
            "Requirement already satisfied: munch in /usr/local/lib/python3.7/dist-packages (from fiona>=1.8->geopandas) (2.5.0)\n",
            "Requirement already satisfied: six>=1.7 in /usr/local/lib/python3.7/dist-packages (from fiona>=1.8->geopandas) (1.15.0)\n",
            "Requirement already satisfied: certifi in /usr/local/lib/python3.7/dist-packages (from fiona>=1.8->geopandas) (2022.6.15)\n",
            "Requirement already satisfied: click>=4.0 in /usr/local/lib/python3.7/dist-packages (from fiona>=1.8->geopandas) (7.1.2)\n",
            "Requirement already satisfied: cligj>=0.5 in /usr/local/lib/python3.7/dist-packages (from fiona>=1.8->geopandas) (0.7.2)\n",
            "Requirement already satisfied: setuptools in /usr/local/lib/python3.7/dist-packages (from fiona>=1.8->geopandas) (57.4.0)\n",
            "Requirement already satisfied: pytz>=2017.3 in /usr/local/lib/python3.7/dist-packages (from pandas>=0.25.0->geopandas) (2022.1)\n",
            "Requirement already satisfied: python-dateutil>=2.7.3 in /usr/local/lib/python3.7/dist-packages (from pandas>=0.25.0->geopandas) (2.8.2)\n",
            "Requirement already satisfied: numpy>=1.17.3 in /usr/local/lib/python3.7/dist-packages (from pandas>=0.25.0->geopandas) (1.21.6)\n"
          ]
        }
      ],
      "source": [
        "!pip install geopandas"
      ]
    },
    {
      "cell_type": "markdown",
      "metadata": {
        "id": "JsJ5RcjqRP3r"
      },
      "source": [
        "Import Libraries\n",
        "Let's start by importing the libraries that we will use"
      ]
    },
    {
      "cell_type": "code",
      "execution_count": 31,
      "metadata": {
        "id": "VrQQihxZBVG_"
      },
      "outputs": [],
      "source": [
        "import pandas as pd\n",
        "import geopandas as gpd\n",
        "\n",
        "import matplotlib # base python plotting library\n",
        "import matplotlib.pyplot as plt # submodule of matplotlib\n",
        "\n",
        "# To display plots, maps, charts etc in the notebook\n",
        "%matplotlib inline"
      ]
    },
    {
      "cell_type": "markdown",
      "metadata": {
        "id": "9a7d17dJS6nK"
      },
      "source": [
        "**Reading a shapefile**\n",
        "shapefile: a type of geospatial data that holds vector data\n",
        "\n",
        "Files that come along with the shapefile and their meanings:\n",
        "\n",
        "**shp:** The main file that stores the feature geometry.\n",
        "\n",
        "**shx:** The index file that stores the index of the feature geometry\n",
        "\n",
        "**dbf:** The dBASE table that stores the attribute information of features\n",
        "\n",
        "**prj:**The file that stores the coordinate system information. (should be required!)\n",
        "\n",
        "**xml:** Metadata —Stores information about the shapefile.\n",
        "\n",
        "**cpg:** Specifies the code page for identifying the character set to be used.\n",
        "\n",
        "Let's try it out with Kenya counties, and use geopandas for the first time. **gpd.read_file** is a flexible function that let's you read in many different types of geospatial data. Since I'm working in Google Colab, I specify the directory from where the Shapefile can be accesses(NB:- You can also do this by specifying the directory if you are working with jupyter notebook in your local machine)\n"
      ]
    },
    {
      "cell_type": "code",
      "execution_count": 32,
      "metadata": {
        "id": "gTdR0pLPUx7c"
      },
      "outputs": [],
      "source": [
        "# Read in the counties shapefile\n",
        "counties = gpd.read_file('/content/Kenya_county_dd.shp')"
      ]
    },
    {
      "cell_type": "code",
      "execution_count": 33,
      "metadata": {
        "colab": {
          "base_uri": "https://localhost:8080/",
          "height": 282
        },
        "id": "KqHptJZpU9yR",
        "outputId": "29ab0aeb-e539-40c1-db3d-79883e3576e7"
      },
      "outputs": [
        {
          "output_type": "execute_result",
          "data": {
            "text/plain": [
              "<matplotlib.axes._subplots.AxesSubplot at 0x7f381d452190>"
            ]
          },
          "metadata": {},
          "execution_count": 33
        },
        {
          "output_type": "display_data",
          "data": {
            "text/plain": [
              "<Figure size 432x288 with 1 Axes>"
            ],
            "image/png": "[encoded data removed]"
          },
          "metadata": {
            "needs_background": "light"
          }
        }
      ],
      "source": [
        "# Plot out Kenya counties\n",
        "counties.plot()"
      ]
    },
    {
      "cell_type": "markdown",
      "metadata": {
        "id": "vrI0xtfsVjuG"
      },
      "source": [
        "# DATA EXPLORATION:"
      ]
    },
    {
      "cell_type": "markdown",
      "metadata": {
        "id": "vTkkwb4UVouV"
      },
      "source": [
        "**DATA STRUCTURES:**\n",
        "The core data structure in GeoPandas is the geopandas.**GeoDataFrame**, a subclass of **pandas.DataFrame**, that can store geometry columns and perform spatial operations. The geopandas.**GeoSeries**, a subclass of **pandas.Series**, handles the geometries. Therefore, your GeoDataFrame is a combination of pandas.Series, with traditional data (numerical, boolean, text etc.), and geopandas.GeoSeries, with geometries (points, polygons etc.). You can have as many columns with geometries as you wish; there’s no limit typical for desktop GIS software.\n",
        "\n",
        "Each GeoSeries can contain any geometry type (you can even mix them within a single array) and has a GeoSeries.crs attribute, which stores information about the projection (CRS stands for Coordinate Reference System). Therefore, each GeoSeries in a GeoDataFrame can be in a different projection, allowing you to have, for example, multiple versions (different projections) of the same geometry.\n",
        "\n",
        "Only one GeoSeries in a GeoDataFrame is considered the active geometry, which means that all geometric operations applied to a GeoDataFrame operate on this active column.\n"
      ]
    },
    {
      "cell_type": "markdown",
      "metadata": {
        "id": "Ar5Wye9AWtBh"
      },
      "source": [
        "DATA EXPLORATION:"
      ]
    },
    {
      "cell_type": "code",
      "execution_count": 34,
      "metadata": {
        "colab": {
          "base_uri": "https://localhost:8080/"
        },
        "id": "0E0_oQtbWzK1",
        "outputId": "1b774d7e-49cb-4a7e-ca1d-438ef522bdc5"
      },
      "outputs": [
        {
          "output_type": "execute_result",
          "data": {
            "text/plain": [
              "(47, 3)"
            ]
          },
          "metadata": {},
          "execution_count": 34
        }
      ],
      "source": [
        "# Find the number of rows and columns in counties\n",
        "counties.shape"
      ]
    },
    {
      "cell_type": "code",
      "execution_count": 35,
      "metadata": {
        "colab": {
          "base_uri": "https://localhost:8080/",
          "height": 206
        },
        "id": "YNVTjTilW8B2",
        "outputId": "46ff21f9-d1f1-48f9-bca4-b333d1638240"
      },
      "outputs": [
        {
          "output_type": "execute_result",
          "data": {
            "text/plain": [
              "  COUNTY_NAM  ID                                           geometry\n",
              "0   Marsabit   1  POLYGON ((36.05031 4.45143, 36.05505 4.45143, ...\n",
              "1      Wajir   2  POLYGON ((39.31910 3.49897, 39.31991 3.49983, ...\n",
              "2    Samburu   3  POLYGON ((36.60238 2.40460, 36.60342 2.40375, ...\n",
              "3     Isiolo   4  POLYGON ((39.29696 1.66981, 39.29730 1.66923, ...\n",
              "4    Baringo   5  POLYGON ((35.78546 1.65586, 35.79502 1.64110, ..."
            ],
            "text/html": [
              "\n",
              "  <div id=\"df-e7360cb4-df9a-41cd-bc1e-aa9285a11d0d\">\n",
              "    <div class=\"colab-df-container\">\n",
              "      <div>\n",
              "<style scoped>\n",
              "    .dataframe tbody tr th:only-of-type {\n",
              "        vertical-align: middle;\n",
              "    }\n",
              "\n",
              "    .dataframe tbody tr th {\n",
              "        vertical-align: top;\n",
              "    }\n",
              "\n",
              "    .dataframe thead th {\n",
              "        text-align: right;\n",
              "    }\n",
              "</style>\n",
              "<table border=\"1\" class=\"dataframe\">\n",
              "  <thead>\n",
              "    <tr style=\"text-align: right;\">\n",
              "      <th></th>\n",
              "      <th>COUNTY_NAM</th>\n",
              "      <th>ID</th>\n",
              "      <th>geometry</th>\n",
              "    </tr>\n",
              "  </thead>\n",
              "  <tbody>\n",
              "    <tr>\n",
              "      <th>0</th>\n",
              "      <td>Marsabit</td>\n",
              "      <td>1</td>\n",
              "      <td>POLYGON ((36.05031 4.45143, 36.05505 4.45143, ...</td>\n",
              "    </tr>\n",
              "    <tr>\n",
              "      <th>1</th>\n",
              "      <td>Wajir</td>\n",
              "      <td>2</td>\n",
              "      <td>POLYGON ((39.31910 3.49897, 39.31991 3.49983, ...</td>\n",
              "    </tr>\n",
              "    <tr>\n",
              "      <th>2</th>\n",
              "      <td>Samburu</td>\n",
              "      <td>3</td>\n",
              "      <td>POLYGON ((36.60238 2.40460, 36.60342 2.40375, ...</td>\n",
              "    </tr>\n",
              "    <tr>\n",
              "      <th>3</th>\n",
              "      <td>Isiolo</td>\n",
              "      <td>4</td>\n",
              "      <td>POLYGON ((39.29696 1.66981, 39.29730 1.66923, ...</td>\n",
              "    </tr>\n",
              "    <tr>\n",
              "      <th>4</th>\n",
              "      <td>Baringo</td>\n",
              "      <td>5</td>\n",
              "      <td>POLYGON ((35.78546 1.65586, 35.79502 1.64110, ...</td>\n",
              "    </tr>\n",
              "  </tbody>\n",
              "</table>\n",
              "</div>\n",
              "      <button class=\"colab-df-convert\" onclick=\"convertToInteractive('df-e7360cb4-df9a-41cd-bc1e-aa9285a11d0d')\"\n",
              "              title=\"Convert this dataframe to an interactive table.\"\n",
              "              style=\"display:none;\">\n",
              "        \n",
              "  <svg xmlns=\"http://www.w3.org/2000/svg\" height=\"24px\"viewBox=\"0 0 24 24\"\n",
              "       width=\"24px\">\n",
              "    <path d=\"M0 0h24v24H0V0z\" fill=\"none\"/>\n",
              "    <path d=\"M18.56 5.44l.94 2.06.94-2.06 2.06-.94-2.06-.94-.94-2.06-.94 2.06-2.06.94zm-11 1L8.5 8.5l.94-2.06 2.06-.94-2.06-.94L8.5 2.5l-.94 2.06-2.06.94zm10 10l.94 2.06.94-2.06 2.06-.94-2.06-.94-.94-2.06-.94 2.06-2.06.94z\"/><path d=\"M17.41 7.96l-1.37-1.37c-.4-.4-.92-.59-1.43-.59-.52 0-1.04.2-1.43.59L10.3 9.45l-7.72 7.72c-.78.78-.78 2.05 0 2.83L4 21.41c.39.39.9.59 1.41.59.51 0 1.02-.2 1.41-.59l7.78-7.78 2.81-2.81c.8-.78.8-2.07 0-2.86zM5.41 20L4 18.59l7.72-7.72 1.47 1.35L5.41 20z\"/>\n",
              "  </svg>\n",
              "      </button>\n",
              "      \n",
              "  <style>\n",
              "    .colab-df-container {\n",
              "      display:flex;\n",
              "      flex-wrap:wrap;\n",
              "      gap: 12px;\n",
              "    }\n",
              "\n",
              "    .colab-df-convert {\n",
              "      background-color: #E8F0FE;\n",
              "      border: none;\n",
              "      border-radius: 50%;\n",
              "      cursor: pointer;\n",
              "      display: none;\n",
              "      fill: #1967D2;\n",
              "      height: 32px;\n",
              "      padding: 0 0 0 0;\n",
              "      width: 32px;\n",
              "    }\n",
              "\n",
              "    .colab-df-convert:hover {\n",
              "      background-color: #E2EBFA;\n",
              "      box-shadow: 0px 1px 2px rgba(60, 64, 67, 0.3), 0px 1px 3px 1px rgba(60, 64, 67, 0.15);\n",
              "      fill: #174EA6;\n",
              "    }\n",
              "\n",
              "    [theme=dark] .colab-df-convert {\n",
              "      background-color: #3B4455;\n",
              "      fill: #D2E3FC;\n",
              "    }\n",
              "\n",
              "    [theme=dark] .colab-df-convert:hover {\n",
              "      background-color: #434B5C;\n",
              "      box-shadow: 0px 1px 3px 1px rgba(0, 0, 0, 0.15);\n",
              "      filter: drop-shadow(0px 1px 2px rgba(0, 0, 0, 0.3));\n",
              "      fill: #FFFFFF;\n",
              "    }\n",
              "  </style>\n",
              "\n",
              "      <script>\n",
              "        const buttonEl =\n",
              "          document.querySelector('#df-e7360cb4-df9a-41cd-bc1e-aa9285a11d0d button.colab-df-convert');\n",
              "        buttonEl.style.display =\n",
              "          google.colab.kernel.accessAllowed ? 'block' : 'none';\n",
              "\n",
              "        async function convertToInteractive(key) {\n",
              "          const element = document.querySelector('#df-e7360cb4-df9a-41cd-bc1e-aa9285a11d0d');\n",
              "          const dataTable =\n",
              "            await google.colab.kernel.invokeFunction('convertToInteractive',\n",
              "                                                     [key], {});\n",
              "          if (!dataTable) return;\n",
              "\n",
              "          const docLinkHtml = 'Like what you see? Visit the ' +\n",
              "            '<a target=\"_blank\" href=https://colab.research.google.com/notebooks/data_table.ipynb>data table notebook</a>'\n",
              "            + ' to learn more about interactive tables.';\n",
              "          element.innerHTML = '';\n",
              "          dataTable['output_type'] = 'display_data';\n",
              "          await google.colab.output.renderOutput(dataTable, element);\n",
              "          const docLink = document.createElement('div');\n",
              "          docLink.innerHTML = docLinkHtml;\n",
              "          element.appendChild(docLink);\n",
              "        }\n",
              "      </script>\n",
              "    </div>\n",
              "  </div>\n",
              "  "
            ]
          },
          "metadata": {},
          "execution_count": 35
        }
      ],
      "source": [
        "# Look at the first couple of rows in our geodataframe\n",
        "counties.head()"
      ]
    },
    {
      "cell_type": "code",
      "execution_count": 36,
      "metadata": {
        "colab": {
          "base_uri": "https://localhost:8080/"
        },
        "id": "SldLYswpW_VZ",
        "outputId": "1d22ab76-f2a1-4fa9-9737-32b67763963d"
      },
      "outputs": [
        {
          "output_type": "execute_result",
          "data": {
            "text/plain": [
              "Index(['COUNTY_NAM', 'ID', 'geometry'], dtype='object')"
            ]
          },
          "metadata": {},
          "execution_count": 36
        }
      ],
      "source": [
        "# Look at all the variables included in our data\n",
        "counties.columns"
      ]
    },
    {
      "cell_type": "markdown",
      "metadata": {
        "id": "tqr8hhssXIjs"
      },
      "source": [
        "**PLOTTING:**\n"
      ]
    },
    {
      "cell_type": "markdown",
      "metadata": {
        "id": "Auf8tJl7ngxd"
      },
      "source": [
        "In the geodataframe these geometries are encoded in a format known as Well-Known Text (WKT). For example:\n",
        "\n",
        "POINT (30 10)\n",
        "LINESTRING (30 10, 10 30, 40 40)\n",
        "POLYGON ((30 10, 40 40, 20 40, 10 20, 30 10))\n",
        "where coordinates are separated by a space and coordinate pairs by a comma\n",
        "\n",
        "Your geodataframe may also include the variants multipoints, multilines, and multipolgyons if the row-level feature of interest is comprised of multiple parts. For example, a geodataframe of states, where one row represents one state, would have a POLYGON geometry for Utah but MULTIPOLYGON for Hawaii, which includes many islands.\n",
        "\n",
        "It's ok to mix and match geometries of the same family, e.g., POLYGON and MULTIPOLYGON, in the same geodatafame\n",
        "\n",
        "You can check the types of geometries in a geodataframe or a subset of the geodataframe by combining the type and unique methods."
      ]
    },
    {
      "cell_type": "code",
      "execution_count": null,
      "metadata": {
        "colab": {
          "base_uri": "https://localhost:8080/"
        },
        "id": "vvWVxSG2ndCU",
        "outputId": "68a7b307-63aa-40a4-9833-10347c03470c"
      },
      "outputs": [
        {
          "data": {
            "text/plain": [
              "0    POLYGON ((36.05031 4.45143, 36.05505 4.45143, ...\n",
              "1    POLYGON ((39.31910 3.49897, 39.31991 3.49983, ...\n",
              "2    POLYGON ((36.60238 2.40460, 36.60342 2.40375, ...\n",
              "3    POLYGON ((39.29696 1.66981, 39.29730 1.66923, ...\n",
              "4    POLYGON ((35.78546 1.65586, 35.79502 1.64110, ...\n",
              "Name: geometry, dtype: geometry"
            ]
          },
          "execution_count": 8,
          "metadata": {},
          "output_type": "execute_result"
        }
      ],
      "source": [
        "# Let's check what geometries we have in our counties geodataframe\n",
        "counties['geometry'].head()"
      ]
    },
    {
      "cell_type": "code",
      "execution_count": null,
      "metadata": {
        "colab": {
          "base_uri": "https://localhost:8080/"
        },
        "id": "CbvQF3CBW_fW",
        "outputId": "e9c07560-bad8-43e7-fdd8-acc3e86874a9"
      },
      "outputs": [
        {
          "data": {
            "text/plain": [
              "array(['Polygon', 'MultiPolygon'], dtype=object)"
            ]
          },
          "execution_count": 9,
          "metadata": {},
          "output_type": "execute_result"
        }
      ],
      "source": [
        "# Let's check to make sure that we only have polygons and multipolygons \n",
        "counties['geometry'].type.unique()"
      ]
    },
    {
      "cell_type": "code",
      "execution_count": 37,
      "metadata": {
        "colab": {
          "base_uri": "https://localhost:8080/",
          "height": 282
        },
        "id": "ny851N2eoX9g",
        "outputId": "ab79a2c4-59af-4985-9625-68a70f686588"
      },
      "outputs": [
        {
          "output_type": "execute_result",
          "data": {
            "text/plain": [
              "<matplotlib.axes._subplots.AxesSubplot at 0x7f381d4a4f90>"
            ]
          },
          "metadata": {},
          "execution_count": 37
        },
        {
          "output_type": "display_data",
          "data": {
            "text/plain": [
              "<Figure size 432x288 with 1 Axes>"
            ],
            "image/png": "[encoded data removed]"
          },
          "metadata": {
            "needs_background": "light"
          }
        }
      ],
      "source": [
        "counties.plot()"
      ]
    },
    {
      "cell_type": "markdown",
      "metadata": {
        "id": "xIFni8Xeoh-H"
      },
      "source": [
        "Just like with other plots you can make in Python, we can start customizing our map with colors, size, etc."
      ]
    },
    {
      "cell_type": "code",
      "execution_count": 38,
      "metadata": {
        "id": "wCzZH2Kpoi9f"
      },
      "outputs": [],
      "source": [
        "# We can run the following line of code to get more info about the parameters we can specify:\n",
        "\n",
        "?counties.plot"
      ]
    },
    {
      "cell_type": "code",
      "execution_count": 39,
      "metadata": {
        "colab": {
          "base_uri": "https://localhost:8080/",
          "height": 487
        },
        "id": "VR0jCmpypZd7",
        "outputId": "9b93cf54-5e85-4e51-93b4-f5a437b2fece"
      },
      "outputs": [
        {
          "output_type": "execute_result",
          "data": {
            "text/plain": [
              "<matplotlib.axes._subplots.AxesSubplot at 0x7f381d1f1f50>"
            ]
          },
          "metadata": {},
          "execution_count": 39
        },
        {
          "output_type": "display_data",
          "data": {
            "text/plain": [
              "<Figure size 432x648 with 1 Axes>"
            ],
            "image/png": "[encoded data removed]"
          },
          "metadata": {
            "needs_background": "light"
          }
        }
      ],
      "source": [
        "# Make the figure size bigger\n",
        "counties.plot(figsize=(6,9))"
      ]
    },
    {
      "cell_type": "markdown",
      "metadata": {
        "id": "u0Ei_w8iZVn3"
      },
      "source": [
        "# Further Exploration:\n",
        "QUERYING DATA\n",
        "Since we will later use/ do our analysis later we wi;; use only one county.\n",
        "Therefore to query the geodataframe for our specific county, we follow the following steps: "
      ]
    },
    {
      "cell_type": "code",
      "execution_count": 40,
      "metadata": {
        "colab": {
          "base_uri": "https://localhost:8080/"
        },
        "id": "qMDsNcQyZ7oK",
        "outputId": "34be1c67-ab85-4022-d896-476b17e4faca"
      },
      "outputs": [
        {
          "output_type": "execute_result",
          "data": {
            "text/plain": [
              "array(['Marsabit', 'Wajir', 'Samburu', 'Isiolo', 'Baringo',\n",
              "       'Elgeyo-Marakwet', 'Garissa', 'Laikipia', 'Meru', 'Nakuru',\n",
              "       'Nyandarua', 'Tharaka-Nithi', 'Kericho', 'Nyeri', 'Kirinyaga',\n",
              "       'Embu', 'Homa Bay', 'Bomet', 'Nyamira', 'Narok', 'Kisii',\n",
              "       \"Murang'a\", 'Migori', 'Taita Taveta', 'Bungoma', 'Turkana',\n",
              "       'Tana River', 'Kiambu', 'Mandera', 'West Pokot', 'Trans Nzoia',\n",
              "       'Kakamega', 'Busia', 'Kajiado', 'Kitui', 'Kisumu', 'Mombasa',\n",
              "       'Makueni', 'Machakos', 'Nandi', 'Lamu', 'Nairobi', 'Siaya',\n",
              "       'Uasin Gishu', 'Vihiga', 'Kilifi', 'Kwale'], dtype=object)"
            ]
          },
          "metadata": {},
          "execution_count": 40
        }
      ],
      "source": [
        "# See all county names included in our dataset\n",
        "counties['COUNTY_NAM'].values"
      ]
    },
    {
      "cell_type": "code",
      "execution_count": 42,
      "metadata": {
        "colab": {
          "base_uri": "https://localhost:8080/",
          "height": 1000
        },
        "id": "BdBwpZQBZeT3",
        "outputId": "d2118ef2-bf1f-48bd-c451-1025f9f5b0ca"
      },
      "outputs": [
        {
          "output_type": "execute_result",
          "data": {
            "text/plain": [
              "         COUNTY_NAM  ID                                           geometry\n",
              "0          Marsabit   1  POLYGON ((36.05031 4.45143, 36.05505 4.45143, ...\n",
              "1             Wajir   2  POLYGON ((39.31910 3.49897, 39.31991 3.49983, ...\n",
              "2           Samburu   3  POLYGON ((36.60238 2.40460, 36.60342 2.40375, ...\n",
              "3            Isiolo   4  POLYGON ((39.29696 1.66981, 39.29730 1.66923, ...\n",
              "4           Baringo   5  POLYGON ((35.78546 1.65586, 35.79502 1.64110, ...\n",
              "5   Elgeyo-Marakwet   6  POLYGON ((35.69689 1.28404, 35.69704 1.28441, ...\n",
              "6           Garissa   7  POLYGON ((39.46213 0.99574, 39.46210 0.99492, ...\n",
              "7          Laikipia   8  POLYGON ((36.86246 0.74424, 36.86242 0.74288, ...\n",
              "8              Meru   9  POLYGON ((37.44397 0.29257, 37.45041 0.28988, ...\n",
              "9            Nakuru  10  POLYGON ((36.25383 0.18411, 36.25400 0.18358, ...\n",
              "10        Nyandarua  11  POLYGON ((36.44342 0.09400, 36.44310 0.09722, ...\n",
              "11    Tharaka-Nithi  12  POLYGON ((38.17723 0.02324, 38.17772 0.02317, ...\n",
              "12          Kericho  13  POLYGON ((35.52292 0.01592, 35.52633 0.01224, ...\n",
              "13            Nyeri  14  POLYGON ((37.12077 -0.01846, 37.12085 -0.01862...\n",
              "14        Kirinyaga  15  POLYGON ((37.30781 -0.14957, 37.34122 -0.22667...\n",
              "15             Embu  16  POLYGON ((37.87318 -0.35583, 37.87317 -0.35526...\n",
              "16         Homa Bay  17  POLYGON ((34.75939 -0.30974, 34.75946 -0.30990...\n",
              "17            Bomet  18  POLYGON ((35.47384 -0.39914, 35.47388 -0.39924...\n",
              "18          Nyamira  19  POLYGON ((35.03975 -0.48104, 35.03971 -0.48132...\n",
              "19            Narok  20  POLYGON ((35.81369 -0.45781, 35.81438 -0.45944...\n",
              "20            Kisii  21  POLYGON ((34.86930 -0.51600, 34.86930 -0.51616...\n",
              "21         Murang'a  22  POLYGON ((37.04523 -0.59335, 37.04556 -0.59337...\n",
              "22           Migori  23  POLYGON ((34.63663 -0.66096, 34.63503 -0.66478...\n",
              "23     Taita Taveta  24  POLYGON ((38.09955 -2.72071, 38.09983 -2.72076...\n",
              "24          Bungoma  25  POLYGON ((34.92318 0.85324, 34.92324 0.85327, ...\n",
              "25          Turkana  26  POLYGON ((35.63255 5.37437, 35.63444 5.37414, ...\n",
              "26       Tana River  27  MULTIPOLYGON (((40.19421 -2.71337, 40.19651 -2...\n",
              "27           Kiambu  28  POLYGON ((36.80603 -0.85515, 36.80636 -0.85535...\n",
              "28          Mandera  29  MULTIPOLYGON (((41.73271 3.98903, 41.73340 3.9...\n",
              "29       West Pokot  30  POLYGON ((35.39294 1.96463, 35.39273 1.96456, ...\n",
              "30      Trans Nzoia  31  POLYGON ((34.92956 0.85542, 34.92946 0.85540, ...\n",
              "31         Kakamega  32  POLYGON ((34.43925 0.20283, 34.43945 0.20291, ...\n",
              "32            Busia  33  MULTIPOLYGON (((34.31250 0.70033, 34.31220 0.7...\n",
              "33          Kajiado  34  POLYGON ((36.53703 -1.15282, 36.53492 -1.16119...\n",
              "34            Kitui  35  POLYGON ((38.41932 -0.07020, 38.44353 -0.11089...\n",
              "35           Kisumu  36  POLYGON ((34.61174 0.00565, 34.61192 0.00560, ...\n",
              "36          Mombasa  37  POLYGON ((39.69060 -3.92242, 39.69076 -3.92251...\n",
              "37          Makueni  38  POLYGON ((37.45581 -1.52107, 37.45609 -1.52107...\n",
              "38         Machakos  39  POLYGON ((37.34253 -1.55310, 37.34192 -1.55353...\n",
              "39            Nandi  40  POLYGON ((34.76793 0.00225, 34.76794 0.00226, ...\n",
              "40             Lamu  41  MULTIPOLYGON (((40.77271 -2.47707, 40.77031 -2...\n",
              "41          Nairobi  42  POLYGON ((37.10157 -1.25958, 37.10155 -1.26010...\n",
              "42            Siaya  43  POLYGON ((34.46427 0.13039, 34.46381 0.13031, ...\n",
              "43      Uasin Gishu  44  POLYGON ((35.05592 0.63251, 35.05639 0.63255, ...\n",
              "44           Vihiga  45  POLYGON ((34.65282 -0.00492, 34.65247 -0.00495...\n",
              "45           Kilifi  46  MULTIPOLYGON (((40.19294 -2.73794, 40.19338 -2...\n",
              "46            Kwale  47  MULTIPOLYGON (((39.53521 -4.44307, 39.53261 -4..."
            ],
            "text/html": [
              "\n",
              "  <div id=\"df-0221d1d8-f9c3-45d6-860f-e0459a6f7c2b\">\n",
              "    <div class=\"colab-df-container\">\n",
              "      <div>\n",
              "<style scoped>\n",
              "    .dataframe tbody tr th:only-of-type {\n",
              "        vertical-align: middle;\n",
              "    }\n",
              "\n",
              "    .dataframe tbody tr th {\n",
              "        vertical-align: top;\n",
              "    }\n",
              "\n",
              "    .dataframe thead th {\n",
              "        text-align: right;\n",
              "    }\n",
              "</style>\n",
              "<table border=\"1\" class=\"dataframe\">\n",
              "  <thead>\n",
              "    <tr style=\"text-align: right;\">\n",
              "      <th></th>\n",
              "      <th>COUNTY_NAM</th>\n",
              "      <th>ID</th>\n",
              "      <th>geometry</th>\n",
              "    </tr>\n",
              "  </thead>\n",
              "  <tbody>\n",
              "    <tr>\n",
              "      <th>0</th>\n",
              "      <td>Marsabit</td>\n",
              "      <td>1</td>\n",
              "      <td>POLYGON ((36.05031 4.45143, 36.05505 4.45143, ...</td>\n",
              "    </tr>\n",
              "    <tr>\n",
              "      <th>1</th>\n",
              "      <td>Wajir</td>\n",
              "      <td>2</td>\n",
              "      <td>POLYGON ((39.31910 3.49897, 39.31991 3.49983, ...</td>\n",
              "    </tr>\n",
              "    <tr>\n",
              "      <th>2</th>\n",
              "      <td>Samburu</td>\n",
              "      <td>3</td>\n",
              "      <td>POLYGON ((36.60238 2.40460, 36.60342 2.40375, ...</td>\n",
              "    </tr>\n",
              "    <tr>\n",
              "      <th>3</th>\n",
              "      <td>Isiolo</td>\n",
              "      <td>4</td>\n",
              "      <td>POLYGON ((39.29696 1.66981, 39.29730 1.66923, ...</td>\n",
              "    </tr>\n",
              "    <tr>\n",
              "      <th>4</th>\n",
              "      <td>Baringo</td>\n",
              "      <td>5</td>\n",
              "      <td>POLYGON ((35.78546 1.65586, 35.79502 1.64110, ...</td>\n",
              "    </tr>\n",
              "    <tr>\n",
              "      <th>5</th>\n",
              "      <td>Elgeyo-Marakwet</td>\n",
              "      <td>6</td>\n",
              "      <td>POLYGON ((35.69689 1.28404, 35.69704 1.28441, ...</td>\n",
              "    </tr>\n",
              "    <tr>\n",
              "      <th>6</th>\n",
              "      <td>Garissa</td>\n",
              "      <td>7</td>\n",
              "      <td>POLYGON ((39.46213 0.99574, 39.46210 0.99492, ...</td>\n",
              "    </tr>\n",
              "    <tr>\n",
              "      <th>7</th>\n",
              "      <td>Laikipia</td>\n",
              "      <td>8</td>\n",
              "      <td>POLYGON ((36.86246 0.74424, 36.86242 0.74288, ...</td>\n",
              "    </tr>\n",
              "    <tr>\n",
              "      <th>8</th>\n",
              "      <td>Meru</td>\n",
              "      <td>9</td>\n",
              "      <td>POLYGON ((37.44397 0.29257, 37.45041 0.28988, ...</td>\n",
              "    </tr>\n",
              "    <tr>\n",
              "      <th>9</th>\n",
              "      <td>Nakuru</td>\n",
              "      <td>10</td>\n",
              "      <td>POLYGON ((36.25383 0.18411, 36.25400 0.18358, ...</td>\n",
              "    </tr>\n",
              "    <tr>\n",
              "      <th>10</th>\n",
              "      <td>Nyandarua</td>\n",
              "      <td>11</td>\n",
              "      <td>POLYGON ((36.44342 0.09400, 36.44310 0.09722, ...</td>\n",
              "    </tr>\n",
              "    <tr>\n",
              "      <th>11</th>\n",
              "      <td>Tharaka-Nithi</td>\n",
              "      <td>12</td>\n",
              "      <td>POLYGON ((38.17723 0.02324, 38.17772 0.02317, ...</td>\n",
              "    </tr>\n",
              "    <tr>\n",
              "      <th>12</th>\n",
              "      <td>Kericho</td>\n",
              "      <td>13</td>\n",
              "      <td>POLYGON ((35.52292 0.01592, 35.52633 0.01224, ...</td>\n",
              "    </tr>\n",
              "    <tr>\n",
              "      <th>13</th>\n",
              "      <td>Nyeri</td>\n",
              "      <td>14</td>\n",
              "      <td>POLYGON ((37.12077 -0.01846, 37.12085 -0.01862...</td>\n",
              "    </tr>\n",
              "    <tr>\n",
              "      <th>14</th>\n",
              "      <td>Kirinyaga</td>\n",
              "      <td>15</td>\n",
              "      <td>POLYGON ((37.30781 -0.14957, 37.34122 -0.22667...</td>\n",
              "    </tr>\n",
              "    <tr>\n",
              "      <th>15</th>\n",
              "      <td>Embu</td>\n",
              "      <td>16</td>\n",
              "      <td>POLYGON ((37.87318 -0.35583, 37.87317 -0.35526...</td>\n",
              "    </tr>\n",
              "    <tr>\n",
              "      <th>16</th>\n",
              "      <td>Homa Bay</td>\n",
              "      <td>17</td>\n",
              "      <td>POLYGON ((34.75939 -0.30974, 34.75946 -0.30990...</td>\n",
              "    </tr>\n",
              "    <tr>\n",
              "      <th>17</th>\n",
              "      <td>Bomet</td>\n",
              "      <td>18</td>\n",
              "      <td>POLYGON ((35.47384 -0.39914, 35.47388 -0.39924...</td>\n",
              "    </tr>\n",
              "    <tr>\n",
              "      <th>18</th>\n",
              "      <td>Nyamira</td>\n",
              "      <td>19</td>\n",
              "      <td>POLYGON ((35.03975 -0.48104, 35.03971 -0.48132...</td>\n",
              "    </tr>\n",
              "    <tr>\n",
              "      <th>19</th>\n",
              "      <td>Narok</td>\n",
              "      <td>20</td>\n",
              "      <td>POLYGON ((35.81369 -0.45781, 35.81438 -0.45944...</td>\n",
              "    </tr>\n",
              "    <tr>\n",
              "      <th>20</th>\n",
              "      <td>Kisii</td>\n",
              "      <td>21</td>\n",
              "      <td>POLYGON ((34.86930 -0.51600, 34.86930 -0.51616...</td>\n",
              "    </tr>\n",
              "    <tr>\n",
              "      <th>21</th>\n",
              "      <td>Murang'a</td>\n",
              "      <td>22</td>\n",
              "      <td>POLYGON ((37.04523 -0.59335, 37.04556 -0.59337...</td>\n",
              "    </tr>\n",
              "    <tr>\n",
              "      <th>22</th>\n",
              "      <td>Migori</td>\n",
              "      <td>23</td>\n",
              "      <td>POLYGON ((34.63663 -0.66096, 34.63503 -0.66478...</td>\n",
              "    </tr>\n",
              "    <tr>\n",
              "      <th>23</th>\n",
              "      <td>Taita Taveta</td>\n",
              "      <td>24</td>\n",
              "      <td>POLYGON ((38.09955 -2.72071, 38.09983 -2.72076...</td>\n",
              "    </tr>\n",
              "    <tr>\n",
              "      <th>24</th>\n",
              "      <td>Bungoma</td>\n",
              "      <td>25</td>\n",
              "      <td>POLYGON ((34.92318 0.85324, 34.92324 0.85327, ...</td>\n",
              "    </tr>\n",
              "    <tr>\n",
              "      <th>25</th>\n",
              "      <td>Turkana</td>\n",
              "      <td>26</td>\n",
              "      <td>POLYGON ((35.63255 5.37437, 35.63444 5.37414, ...</td>\n",
              "    </tr>\n",
              "    <tr>\n",
              "      <th>26</th>\n",
              "      <td>Tana River</td>\n",
              "      <td>27</td>\n",
              "      <td>MULTIPOLYGON (((40.19421 -2.71337, 40.19651 -2...</td>\n",
              "    </tr>\n",
              "    <tr>\n",
              "      <th>27</th>\n",
              "      <td>Kiambu</td>\n",
              "      <td>28</td>\n",
              "      <td>POLYGON ((36.80603 -0.85515, 36.80636 -0.85535...</td>\n",
              "    </tr>\n",
              "    <tr>\n",
              "      <th>28</th>\n",
              "      <td>Mandera</td>\n",
              "      <td>29</td>\n",
              "      <td>MULTIPOLYGON (((41.73271 3.98903, 41.73340 3.9...</td>\n",
              "    </tr>\n",
              "    <tr>\n",
              "      <th>29</th>\n",
              "      <td>West Pokot</td>\n",
              "      <td>30</td>\n",
              "      <td>POLYGON ((35.39294 1.96463, 35.39273 1.96456, ...</td>\n",
              "    </tr>\n",
              "    <tr>\n",
              "      <th>30</th>\n",
              "      <td>Trans Nzoia</td>\n",
              "      <td>31</td>\n",
              "      <td>POLYGON ((34.92956 0.85542, 34.92946 0.85540, ...</td>\n",
              "    </tr>\n",
              "    <tr>\n",
              "      <th>31</th>\n",
              "      <td>Kakamega</td>\n",
              "      <td>32</td>\n",
              "      <td>POLYGON ((34.43925 0.20283, 34.43945 0.20291, ...</td>\n",
              "    </tr>\n",
              "    <tr>\n",
              "      <th>32</th>\n",
              "      <td>Busia</td>\n",
              "      <td>33</td>\n",
              "      <td>MULTIPOLYGON (((34.31250 0.70033, 34.31220 0.7...</td>\n",
              "    </tr>\n",
              "    <tr>\n",
              "      <th>33</th>\n",
              "      <td>Kajiado</td>\n",
              "      <td>34</td>\n",
              "      <td>POLYGON ((36.53703 -1.15282, 36.53492 -1.16119...</td>\n",
              "    </tr>\n",
              "    <tr>\n",
              "      <th>34</th>\n",
              "      <td>Kitui</td>\n",
              "      <td>35</td>\n",
              "      <td>POLYGON ((38.41932 -0.07020, 38.44353 -0.11089...</td>\n",
              "    </tr>\n",
              "    <tr>\n",
              "      <th>35</th>\n",
              "      <td>Kisumu</td>\n",
              "      <td>36</td>\n",
              "      <td>POLYGON ((34.61174 0.00565, 34.61192 0.00560, ...</td>\n",
              "    </tr>\n",
              "    <tr>\n",
              "      <th>36</th>\n",
              "      <td>Mombasa</td>\n",
              "      <td>37</td>\n",
              "      <td>POLYGON ((39.69060 -3.92242, 39.69076 -3.92251...</td>\n",
              "    </tr>\n",
              "    <tr>\n",
              "      <th>37</th>\n",
              "      <td>Makueni</td>\n",
              "      <td>38</td>\n",
              "      <td>POLYGON ((37.45581 -1.52107, 37.45609 -1.52107...</td>\n",
              "    </tr>\n",
              "    <tr>\n",
              "      <th>38</th>\n",
              "      <td>Machakos</td>\n",
              "      <td>39</td>\n",
              "      <td>POLYGON ((37.34253 -1.55310, 37.34192 -1.55353...</td>\n",
              "    </tr>\n",
              "    <tr>\n",
              "      <th>39</th>\n",
              "      <td>Nandi</td>\n",
              "      <td>40</td>\n",
              "      <td>POLYGON ((34.76793 0.00225, 34.76794 0.00226, ...</td>\n",
              "    </tr>\n",
              "    <tr>\n",
              "      <th>40</th>\n",
              "      <td>Lamu</td>\n",
              "      <td>41</td>\n",
              "      <td>MULTIPOLYGON (((40.77271 -2.47707, 40.77031 -2...</td>\n",
              "    </tr>\n",
              "    <tr>\n",
              "      <th>41</th>\n",
              "      <td>Nairobi</td>\n",
              "      <td>42</td>\n",
              "      <td>POLYGON ((37.10157 -1.25958, 37.10155 -1.26010...</td>\n",
              "    </tr>\n",
              "    <tr>\n",
              "      <th>42</th>\n",
              "      <td>Siaya</td>\n",
              "      <td>43</td>\n",
              "      <td>POLYGON ((34.46427 0.13039, 34.46381 0.13031, ...</td>\n",
              "    </tr>\n",
              "    <tr>\n",
              "      <th>43</th>\n",
              "      <td>Uasin Gishu</td>\n",
              "      <td>44</td>\n",
              "      <td>POLYGON ((35.05592 0.63251, 35.05639 0.63255, ...</td>\n",
              "    </tr>\n",
              "    <tr>\n",
              "      <th>44</th>\n",
              "      <td>Vihiga</td>\n",
              "      <td>45</td>\n",
              "      <td>POLYGON ((34.65282 -0.00492, 34.65247 -0.00495...</td>\n",
              "    </tr>\n",
              "    <tr>\n",
              "      <th>45</th>\n",
              "      <td>Kilifi</td>\n",
              "      <td>46</td>\n",
              "      <td>MULTIPOLYGON (((40.19294 -2.73794, 40.19338 -2...</td>\n",
              "    </tr>\n",
              "    <tr>\n",
              "      <th>46</th>\n",
              "      <td>Kwale</td>\n",
              "      <td>47</td>\n",
              "      <td>MULTIPOLYGON (((39.53521 -4.44307, 39.53261 -4...</td>\n",
              "    </tr>\n",
              "  </tbody>\n",
              "</table>\n",
              "</div>\n",
              "      <button class=\"colab-df-convert\" onclick=\"convertToInteractive('df-0221d1d8-f9c3-45d6-860f-e0459a6f7c2b')\"\n",
              "              title=\"Convert this dataframe to an interactive table.\"\n",
              "              style=\"display:none;\">\n",
              "        \n",
              "  <svg xmlns=\"http://www.w3.org/2000/svg\" height=\"24px\"viewBox=\"0 0 24 24\"\n",
              "       width=\"24px\">\n",
              "    <path d=\"M0 0h24v24H0V0z\" fill=\"none\"/>\n",
              "    <path d=\"M18.56 5.44l.94 2.06.94-2.06 2.06-.94-2.06-.94-.94-2.06-.94 2.06-2.06.94zm-11 1L8.5 8.5l.94-2.06 2.06-.94-2.06-.94L8.5 2.5l-.94 2.06-2.06.94zm10 10l.94 2.06.94-2.06 2.06-.94-2.06-.94-.94-2.06-.94 2.06-2.06.94z\"/><path d=\"M17.41 7.96l-1.37-1.37c-.4-.4-.92-.59-1.43-.59-.52 0-1.04.2-1.43.59L10.3 9.45l-7.72 7.72c-.78.78-.78 2.05 0 2.83L4 21.41c.39.39.9.59 1.41.59.51 0 1.02-.2 1.41-.59l7.78-7.78 2.81-2.81c.8-.78.8-2.07 0-2.86zM5.41 20L4 18.59l7.72-7.72 1.47 1.35L5.41 20z\"/>\n",
              "  </svg>\n",
              "      </button>\n",
              "      \n",
              "  <style>\n",
              "    .colab-df-container {\n",
              "      display:flex;\n",
              "      flex-wrap:wrap;\n",
              "      gap: 12px;\n",
              "    }\n",
              "\n",
              "    .colab-df-convert {\n",
              "      background-color: #E8F0FE;\n",
              "      border: none;\n",
              "      border-radius: 50%;\n",
              "      cursor: pointer;\n",
              "      display: none;\n",
              "      fill: #1967D2;\n",
              "      height: 32px;\n",
              "      padding: 0 0 0 0;\n",
              "      width: 32px;\n",
              "    }\n",
              "\n",
              "    .colab-df-convert:hover {\n",
              "      background-color: #E2EBFA;\n",
              "      box-shadow: 0px 1px 2px rgba(60, 64, 67, 0.3), 0px 1px 3px 1px rgba(60, 64, 67, 0.15);\n",
              "      fill: #174EA6;\n",
              "    }\n",
              "\n",
              "    [theme=dark] .colab-df-convert {\n",
              "      background-color: #3B4455;\n",
              "      fill: #D2E3FC;\n",
              "    }\n",
              "\n",
              "    [theme=dark] .colab-df-convert:hover {\n",
              "      background-color: #434B5C;\n",
              "      box-shadow: 0px 1px 3px 1px rgba(0, 0, 0, 0.15);\n",
              "      filter: drop-shadow(0px 1px 2px rgba(0, 0, 0, 0.3));\n",
              "      fill: #FFFFFF;\n",
              "    }\n",
              "  </style>\n",
              "\n",
              "      <script>\n",
              "        const buttonEl =\n",
              "          document.querySelector('#df-0221d1d8-f9c3-45d6-860f-e0459a6f7c2b button.colab-df-convert');\n",
              "        buttonEl.style.display =\n",
              "          google.colab.kernel.accessAllowed ? 'block' : 'none';\n",
              "\n",
              "        async function convertToInteractive(key) {\n",
              "          const element = document.querySelector('#df-0221d1d8-f9c3-45d6-860f-e0459a6f7c2b');\n",
              "          const dataTable =\n",
              "            await google.colab.kernel.invokeFunction('convertToInteractive',\n",
              "                                                     [key], {});\n",
              "          if (!dataTable) return;\n",
              "\n",
              "          const docLinkHtml = 'Like what you see? Visit the ' +\n",
              "            '<a target=\"_blank\" href=https://colab.research.google.com/notebooks/data_table.ipynb>data table notebook</a>'\n",
              "            + ' to learn more about interactive tables.';\n",
              "          element.innerHTML = '';\n",
              "          dataTable['output_type'] = 'display_data';\n",
              "          await google.colab.output.renderOutput(dataTable, element);\n",
              "          const docLink = document.createElement('div');\n",
              "          docLink.innerHTML = docLinkHtml;\n",
              "          element.appendChild(docLink);\n",
              "        }\n",
              "      </script>\n",
              "    </div>\n",
              "  </div>\n",
              "  "
            ]
          },
          "metadata": {},
          "execution_count": 42
        }
      ],
      "source": [
        "counties"
      ]
    },
    {
      "cell_type": "markdown",
      "metadata": {
        "id": "DTWU_eN1bGhl"
      },
      "source": [
        "Now we can create a new geodataframe called Uasin Gishu_county that is a subset of our counties geodataframe."
      ]
    },
    {
      "cell_type": "code",
      "execution_count": 43,
      "metadata": {
        "id": "xdirk0wjpfnM"
      },
      "outputs": [],
      "source": [
        "Uasin_Gishu_county = counties.loc[counties['COUNTY_NAM'] == 'Uasin Gishu'].copy().reset_index(drop=True)"
      ]
    },
    {
      "cell_type": "code",
      "execution_count": 44,
      "metadata": {
        "colab": {
          "base_uri": "https://localhost:8080/",
          "height": 282
        },
        "id": "9IfSBuQxboFw",
        "outputId": "5ec91430-7503-409a-b146-e83550ca2e03"
      },
      "outputs": [
        {
          "output_type": "execute_result",
          "data": {
            "text/plain": [
              "<matplotlib.axes._subplots.AxesSubplot at 0x7f381d2bbb90>"
            ]
          },
          "metadata": {},
          "execution_count": 44
        },
        {
          "output_type": "display_data",
          "data": {
            "text/plain": [
              "<Figure size 432x288 with 1 Axes>"
            ],
            "image/png": "[encoded data removed]"
          },
          "metadata": {
            "needs_background": "light"
          }
        }
      ],
      "source": [
        "# Plot our newly subsetted geodataframe\n",
        "Uasin_Gishu_county.plot()"
      ]
    },
    {
      "cell_type": "markdown",
      "metadata": {
        "id": "9dZa7e_Ybvdo"
      },
      "source": [
        "You can also make dynamic plots of one or more county without saving to a new gdf."
      ]
    },
    {
      "cell_type": "code",
      "execution_count": 45,
      "metadata": {
        "colab": {
          "base_uri": "https://localhost:8080/",
          "height": 282
        },
        "id": "OS8O9vbtbxVt",
        "outputId": "f6665011-e267-43bb-c129-166bcfb767e0"
      },
      "outputs": [
        {
          "output_type": "execute_result",
          "data": {
            "text/plain": [
              "<matplotlib.axes._subplots.AxesSubplot at 0x7f381d285790>"
            ]
          },
          "metadata": {},
          "execution_count": 45
        },
        {
          "output_type": "display_data",
          "data": {
            "text/plain": [
              "<Figure size 432x288 with 1 Axes>"
            ],
            "image/png": "[encoded data removed]"
          },
          "metadata": {
            "needs_background": "light"
          }
        }
      ],
      "source": [
        "bay_area_counties = ['Uasin Gishu', 'Mombasa', 'Kisumu', 'Samburu', 'Taita Taveta', \n",
        "                        'West Pokot', 'Kiambu', 'Bungoma', 'Trans Nzoia', 'Migori\t']\n",
        "counties.loc[counties['COUNTY_NAM'].isin(bay_area_counties)].plot()"
      ]
    },
    {
      "cell_type": "markdown",
      "metadata": {
        "id": "ItdUzKPFcepO"
      },
      "source": [
        "saving your data"
      ]
    },
    {
      "cell_type": "code",
      "execution_count": 47,
      "metadata": {
        "id": "DxTYuIBmcgyD"
      },
      "outputs": [],
      "source": [
        "Uasin_Gishu_county.to_file(\"/content/Uasin_G_county.shp\")"
      ]
    }
  ],
  "metadata": {
    "colab": {
      "collapsed_sections": [],
      "name": "GEOPANDAS.ipynb",
      "provenance": []
    },
    "kernelspec": {
      "display_name": "Python 3",
      "name": "python3"
    },
    "language_info": {
      "name": "python"
    }
  },
  "nbformat": 4,
  "nbformat_minor": 0
}
